{
 "cells": [
  {
   "cell_type": "markdown",
   "metadata": {
    "toc": true
   },
   "source": [
    "<h1>Содержания<span class=\"tocSkip\"></span></h1>\n",
    "<div class=\"toc\"><ul class=\"toc-item\"><li><span><a href=\"#Знакомство-с-данными\" data-toc-modified-id=\"Знакомство-с-данными-1\"><span class=\"toc-item-num\">1&nbsp;&nbsp;</span>Знакомство с данными</a></span></li><li><span><a href=\"#Часть-I---Приоритизация-гипотез\" data-toc-modified-id=\"Часть-I---Приоритизация-гипотез-2\"><span class=\"toc-item-num\">2&nbsp;&nbsp;</span>Часть I - Приоритизация гипотез</a></span><ul class=\"toc-item\"><li><span><a href=\"#ICE\" data-toc-modified-id=\"ICE-2.1\"><span class=\"toc-item-num\">2.1&nbsp;&nbsp;</span>ICE</a></span></li><li><span><a href=\"#RICE\" data-toc-modified-id=\"RICE-2.2\"><span class=\"toc-item-num\">2.2&nbsp;&nbsp;</span>RICE</a></span></li><li><span><a href=\"#Вывод\" data-toc-modified-id=\"Вывод-2.3\"><span class=\"toc-item-num\">2.3&nbsp;&nbsp;</span>Вывод</a></span></li></ul></li><li><span><a href=\"#Часть-II---Анализ-A/B-теста\" data-toc-modified-id=\"Часть-II---Анализ-A/B-теста-3\"><span class=\"toc-item-num\">3&nbsp;&nbsp;</span>Часть II - Анализ A/B-теста</a></span><ul class=\"toc-item\"><li><ul class=\"toc-item\"><li><span><a href=\"#Знакомство-с-данными\" data-toc-modified-id=\"Знакомство-с-данными-3.0.1\"><span class=\"toc-item-num\">3.0.1&nbsp;&nbsp;</span>Знакомство с данными</a></span></li></ul></li><li><span><a href=\"#Кумулятивная-выручка\" data-toc-modified-id=\"Кумулятивная-выручка-3.1\"><span class=\"toc-item-num\">3.1&nbsp;&nbsp;</span>Кумулятивная выручка</a></span></li><li><span><a href=\"#Кумулятивный-средний-чек\" data-toc-modified-id=\"Кумулятивный-средний-чек-3.2\"><span class=\"toc-item-num\">3.2&nbsp;&nbsp;</span>Кумулятивный средний чек</a></span></li><li><span><a href=\"#Относительное-различие-чека\" data-toc-modified-id=\"Относительное-различие-чека-3.3\"><span class=\"toc-item-num\">3.3&nbsp;&nbsp;</span>Относительное различие чека</a></span></li><li><span><a href=\"#Кумулятивное-среднее-количество-заказов-на-посетителя\" data-toc-modified-id=\"Кумулятивное-среднее-количество-заказов-на-посетителя-3.4\"><span class=\"toc-item-num\">3.4&nbsp;&nbsp;</span>Кумулятивное среднее количество заказов на посетителя</a></span></li><li><span><a href=\"#Относительное-различие-кумулятивных-конверсий\" data-toc-modified-id=\"Относительное-различие-кумулятивных-конверсий-3.5\"><span class=\"toc-item-num\">3.5&nbsp;&nbsp;</span>Относительное различие кумулятивных конверсий</a></span></li><li><span><a href=\"#Точечный-график-количества-заказов-по-пользователям\" data-toc-modified-id=\"Точечный-график-количества-заказов-по-пользователям-3.6\"><span class=\"toc-item-num\">3.6&nbsp;&nbsp;</span>Точечный график количества заказов по пользователям</a></span></li><li><span><a href=\"#95-й-и-99-й-перцентили-количества-заказов-на-пользователя\" data-toc-modified-id=\"95-й-и-99-й-перцентили-количества-заказов-на-пользователя-3.7\"><span class=\"toc-item-num\">3.7&nbsp;&nbsp;</span>95-й и 99-й перцентили количества заказов на пользователя</a></span></li><li><span><a href=\"#Стоимость-заказов\" data-toc-modified-id=\"Стоимость-заказов-3.8\"><span class=\"toc-item-num\">3.8&nbsp;&nbsp;</span>Стоимость заказов</a></span></li><li><span><a href=\"#95-й-и-99-й-перцентили-стоимости-заказов\" data-toc-modified-id=\"95-й-и-99-й-перцентили-стоимости-заказов-3.9\"><span class=\"toc-item-num\">3.9&nbsp;&nbsp;</span>95-й и 99-й перцентили стоимости заказов</a></span></li><li><span><a href=\"#Cтатистическая-значимость-различий-в-среднем-количестве-заказов-на-посетителя\" data-toc-modified-id=\"Cтатистическая-значимость-различий-в-среднем-количестве-заказов-на-посетителя-3.10\"><span class=\"toc-item-num\">3.10&nbsp;&nbsp;</span>Cтатистическая значимость различий в среднем количестве заказов на посетителя</a></span></li><li><span><a href=\"#Cтатистическая-значимость-различий-в-среднем-чеке\" data-toc-modified-id=\"Cтатистическая-значимость-различий-в-среднем-чеке-3.11\"><span class=\"toc-item-num\">3.11&nbsp;&nbsp;</span>Cтатистическая значимость различий в среднем чеке</a></span></li><li><span><a href=\"#Cтатистическая-значимость-различий-в-среднем-количестве-заказов-на-посетителя-по-&quot;очищенным&quot;-данным\" data-toc-modified-id=\"Cтатистическая-значимость-различий-в-среднем-количестве-заказов-на-посетителя-по-&quot;очищенным&quot;-данным-3.12\"><span class=\"toc-item-num\">3.12&nbsp;&nbsp;</span>Cтатистическая значимость различий в среднем количестве заказов на посетителя по \"очищенным\" данным</a></span></li><li><span><a href=\"#Cтатистическая-значимость-различий-в-среднем-чеке\" data-toc-modified-id=\"Cтатистическая-значимость-различий-в-среднем-чеке-3.13\"><span class=\"toc-item-num\">3.13&nbsp;&nbsp;</span>Cтатистическая значимость различий в среднем чеке</a></span></li><li><span><a href=\"#Итоги-теста\" data-toc-modified-id=\"Итоги-теста-3.14\"><span class=\"toc-item-num\">3.14&nbsp;&nbsp;</span>Итоги теста</a></span></li></ul></li><li><span><a href=\"#Общий-вывод\" data-toc-modified-id=\"Общий-вывод-4\"><span class=\"toc-item-num\">4&nbsp;&nbsp;</span>Общий вывод</a></span></li></ul></div>"
   ]
  },
  {
   "cell_type": "markdown",
   "metadata": {},
   "source": [
    "# A/B-тест для интернет-магазина"
   ]
  },
  {
   "cell_type": "markdown",
   "metadata": {},
   "source": [
    "Исследование направлено на анализ гипотез по увеличению выручки крупного интернет-магазина. Цель исследования - проанализировать результаты A/B-теста.\n",
    "\n",
    "В ходе исследования мы приоритизируем гипотезы с помощью различных фреймворков, проанализируем A/B-тест. Мы посмотрим на данные о стоимости заказов, чеков, их количеству и построим соответствующие графики. "
   ]
  },
  {
   "cell_type": "markdown",
   "metadata": {},
   "source": [
    "## Знакомство с данными\n",
    "\n",
    "Загрузим данные о визитах, заказах и рекламных расходах из CSV-файлов в переменные.\n",
    "\n",
    "Импортируем нужные библиотеки и проведем первое знакомство с датасетом."
   ]
  },
  {
   "cell_type": "code",
   "execution_count": 1,
   "metadata": {},
   "outputs": [],
   "source": [
    "import pandas as pd\n",
    "import numpy as np\n",
    "import scipy.stats as stats\n",
    "import datetime as dt\n",
    "from matplotlib import pyplot as plt\n",
    "from pandas.plotting import register_matplotlib_converters\n",
    "import warnings\n",
    "warnings.filterwarnings('ignore')\n",
    "register_matplotlib_converters()"
   ]
  },
  {
   "cell_type": "code",
   "execution_count": 2,
   "metadata": {},
   "outputs": [],
   "source": [
    "hypothesis, orders, visitors = (\n",
    "    pd.read_csv('/datasets/hypothesis.csv'), \n",
    "    pd.read_csv('/datasets/orders.csv'), \n",
    "    pd.read_csv('/datasets/visitors.csv')\n",
    ")"
   ]
  },
  {
   "cell_type": "markdown",
   "metadata": {},
   "source": [
    "Откроем датафреймы и изучим общую информацию."
   ]
  },
  {
   "cell_type": "code",
   "execution_count": 3,
   "metadata": {
    "scrolled": true
   },
   "outputs": [
    {
     "data": {
      "text/html": [
       "<div>\n",
       "<style scoped>\n",
       "    .dataframe tbody tr th:only-of-type {\n",
       "        vertical-align: middle;\n",
       "    }\n",
       "\n",
       "    .dataframe tbody tr th {\n",
       "        vertical-align: top;\n",
       "    }\n",
       "\n",
       "    .dataframe thead th {\n",
       "        text-align: right;\n",
       "    }\n",
       "</style>\n",
       "<table border=\"1\" class=\"dataframe\">\n",
       "  <thead>\n",
       "    <tr style=\"text-align: right;\">\n",
       "      <th></th>\n",
       "      <th>Hypothesis</th>\n",
       "      <th>Reach</th>\n",
       "      <th>Impact</th>\n",
       "      <th>Confidence</th>\n",
       "      <th>Efforts</th>\n",
       "    </tr>\n",
       "  </thead>\n",
       "  <tbody>\n",
       "    <tr>\n",
       "      <th>0</th>\n",
       "      <td>Добавить два новых канала привлечения трафика, что позволит привлекать на 30% больше пользователей</td>\n",
       "      <td>3</td>\n",
       "      <td>10</td>\n",
       "      <td>8</td>\n",
       "      <td>6</td>\n",
       "    </tr>\n",
       "    <tr>\n",
       "      <th>1</th>\n",
       "      <td>Запустить собственную службу доставки, что сократит срок доставки заказов</td>\n",
       "      <td>2</td>\n",
       "      <td>5</td>\n",
       "      <td>4</td>\n",
       "      <td>10</td>\n",
       "    </tr>\n",
       "    <tr>\n",
       "      <th>2</th>\n",
       "      <td>Добавить блоки рекомендаций товаров на сайт интернет магазина, чтобы повысить конверсию и средний чек заказа</td>\n",
       "      <td>8</td>\n",
       "      <td>3</td>\n",
       "      <td>7</td>\n",
       "      <td>3</td>\n",
       "    </tr>\n",
       "    <tr>\n",
       "      <th>3</th>\n",
       "      <td>Изменить структура категорий, что увеличит конверсию, т.к. пользователи быстрее найдут нужный товар</td>\n",
       "      <td>8</td>\n",
       "      <td>3</td>\n",
       "      <td>3</td>\n",
       "      <td>8</td>\n",
       "    </tr>\n",
       "    <tr>\n",
       "      <th>4</th>\n",
       "      <td>Изменить цвет фона главной страницы, чтобы увеличить вовлеченность пользователей</td>\n",
       "      <td>3</td>\n",
       "      <td>1</td>\n",
       "      <td>1</td>\n",
       "      <td>1</td>\n",
       "    </tr>\n",
       "    <tr>\n",
       "      <th>5</th>\n",
       "      <td>Добавить страницу отзывов клиентов о магазине, что позволит увеличить количество заказов</td>\n",
       "      <td>3</td>\n",
       "      <td>2</td>\n",
       "      <td>2</td>\n",
       "      <td>3</td>\n",
       "    </tr>\n",
       "    <tr>\n",
       "      <th>6</th>\n",
       "      <td>Показать на главной странице баннеры с актуальными акциями и распродажами, чтобы увеличить конверсию</td>\n",
       "      <td>5</td>\n",
       "      <td>3</td>\n",
       "      <td>8</td>\n",
       "      <td>3</td>\n",
       "    </tr>\n",
       "    <tr>\n",
       "      <th>7</th>\n",
       "      <td>Добавить форму подписки на все основные страницы, чтобы собрать базу клиентов для email-рассылок</td>\n",
       "      <td>10</td>\n",
       "      <td>7</td>\n",
       "      <td>8</td>\n",
       "      <td>5</td>\n",
       "    </tr>\n",
       "    <tr>\n",
       "      <th>8</th>\n",
       "      <td>Запустить акцию, дающую скидку на товар в день рождения</td>\n",
       "      <td>1</td>\n",
       "      <td>9</td>\n",
       "      <td>9</td>\n",
       "      <td>5</td>\n",
       "    </tr>\n",
       "  </tbody>\n",
       "</table>\n",
       "</div>"
      ],
      "text/plain": [
       "                                                                                                     Hypothesis  \\\n",
       "0            Добавить два новых канала привлечения трафика, что позволит привлекать на 30% больше пользователей   \n",
       "1                                     Запустить собственную службу доставки, что сократит срок доставки заказов   \n",
       "2  Добавить блоки рекомендаций товаров на сайт интернет магазина, чтобы повысить конверсию и средний чек заказа   \n",
       "3           Изменить структура категорий, что увеличит конверсию, т.к. пользователи быстрее найдут нужный товар   \n",
       "4                              Изменить цвет фона главной страницы, чтобы увеличить вовлеченность пользователей   \n",
       "5                      Добавить страницу отзывов клиентов о магазине, что позволит увеличить количество заказов   \n",
       "6          Показать на главной странице баннеры с актуальными акциями и распродажами, чтобы увеличить конверсию   \n",
       "7              Добавить форму подписки на все основные страницы, чтобы собрать базу клиентов для email-рассылок   \n",
       "8                                                       Запустить акцию, дающую скидку на товар в день рождения   \n",
       "\n",
       "   Reach  Impact  Confidence  Efforts  \n",
       "0      3      10           8        6  \n",
       "1      2       5           4       10  \n",
       "2      8       3           7        3  \n",
       "3      8       3           3        8  \n",
       "4      3       1           1        1  \n",
       "5      3       2           2        3  \n",
       "6      5       3           8        3  \n",
       "7     10       7           8        5  \n",
       "8      1       9           9        5  "
      ]
     },
     "execution_count": 3,
     "metadata": {},
     "output_type": "execute_result"
    }
   ],
   "source": [
    "pd.options.display.max_colwidth = 110\n",
    "hypothesis.head(10)"
   ]
  },
  {
   "cell_type": "code",
   "execution_count": 4,
   "metadata": {},
   "outputs": [
    {
     "name": "stdout",
     "output_type": "stream",
     "text": [
      "<class 'pandas.core.frame.DataFrame'>\n",
      "RangeIndex: 9 entries, 0 to 8\n",
      "Data columns (total 5 columns):\n",
      " #   Column      Non-Null Count  Dtype \n",
      "---  ------      --------------  ----- \n",
      " 0   Hypothesis  9 non-null      object\n",
      " 1   Reach       9 non-null      int64 \n",
      " 2   Impact      9 non-null      int64 \n",
      " 3   Confidence  9 non-null      int64 \n",
      " 4   Efforts     9 non-null      int64 \n",
      "dtypes: int64(4), object(1)\n",
      "memory usage: 488.0+ bytes\n"
     ]
    }
   ],
   "source": [
    "hypothesis.info(10)"
   ]
  },
  {
   "cell_type": "markdown",
   "metadata": {},
   "source": [
    "Данные выглядят нормально, количество срок говорит нам об отсутствии пропусков. Глобальных проблем с оформлением не замечено. "
   ]
  },
  {
   "cell_type": "markdown",
   "metadata": {},
   "source": [
    "Приведем названия столбцов к общепринятому формату."
   ]
  },
  {
   "cell_type": "code",
   "execution_count": 5,
   "metadata": {},
   "outputs": [],
   "source": [
    "hypothesis.columns = hypothesis.columns.str.lower()"
   ]
  },
  {
   "cell_type": "markdown",
   "metadata": {},
   "source": [
    "**Вывод:** Мы провели первое знакомство с данными, не заметили существенных проблем. Мы привели заголовки столбцов к общепринятому формату."
   ]
  },
  {
   "cell_type": "markdown",
   "metadata": {},
   "source": [
    "## Часть I - Приоритизация гипотез\n",
    "\n",
    "У нас есть девять гипотез по увеличению выручки интернет-магазина с указанными параметрами Reach, Impact, Confidence, Effort. Посмотрим, какие из них стоит приоритизировать."
   ]
  },
  {
   "cell_type": "markdown",
   "metadata": {},
   "source": [
    "### ICE\n",
    "Применим фреймворк ICE для приоритизации гипотез. Отсортируем их по убыванию приоритета."
   ]
  },
  {
   "cell_type": "code",
   "execution_count": 6,
   "metadata": {},
   "outputs": [
    {
     "data": {
      "text/html": [
       "<div>\n",
       "<style scoped>\n",
       "    .dataframe tbody tr th:only-of-type {\n",
       "        vertical-align: middle;\n",
       "    }\n",
       "\n",
       "    .dataframe tbody tr th {\n",
       "        vertical-align: top;\n",
       "    }\n",
       "\n",
       "    .dataframe thead th {\n",
       "        text-align: right;\n",
       "    }\n",
       "</style>\n",
       "<table border=\"1\" class=\"dataframe\">\n",
       "  <thead>\n",
       "    <tr style=\"text-align: right;\">\n",
       "      <th></th>\n",
       "      <th>hypothesis</th>\n",
       "      <th>ICE</th>\n",
       "    </tr>\n",
       "  </thead>\n",
       "  <tbody>\n",
       "    <tr>\n",
       "      <th>8</th>\n",
       "      <td>Запустить акцию, дающую скидку на товар в день рождения</td>\n",
       "      <td>16.200</td>\n",
       "    </tr>\n",
       "    <tr>\n",
       "      <th>0</th>\n",
       "      <td>Добавить два новых канала привлечения трафика, что позволит привлекать на 30% больше пользователей</td>\n",
       "      <td>13.333</td>\n",
       "    </tr>\n",
       "    <tr>\n",
       "      <th>7</th>\n",
       "      <td>Добавить форму подписки на все основные страницы, чтобы собрать базу клиентов для email-рассылок</td>\n",
       "      <td>11.200</td>\n",
       "    </tr>\n",
       "    <tr>\n",
       "      <th>6</th>\n",
       "      <td>Показать на главной странице баннеры с актуальными акциями и распродажами, чтобы увеличить конверсию</td>\n",
       "      <td>8.000</td>\n",
       "    </tr>\n",
       "    <tr>\n",
       "      <th>2</th>\n",
       "      <td>Добавить блоки рекомендаций товаров на сайт интернет магазина, чтобы повысить конверсию и средний чек заказа</td>\n",
       "      <td>7.000</td>\n",
       "    </tr>\n",
       "    <tr>\n",
       "      <th>1</th>\n",
       "      <td>Запустить собственную службу доставки, что сократит срок доставки заказов</td>\n",
       "      <td>2.000</td>\n",
       "    </tr>\n",
       "    <tr>\n",
       "      <th>5</th>\n",
       "      <td>Добавить страницу отзывов клиентов о магазине, что позволит увеличить количество заказов</td>\n",
       "      <td>1.333</td>\n",
       "    </tr>\n",
       "    <tr>\n",
       "      <th>3</th>\n",
       "      <td>Изменить структура категорий, что увеличит конверсию, т.к. пользователи быстрее найдут нужный товар</td>\n",
       "      <td>1.125</td>\n",
       "    </tr>\n",
       "    <tr>\n",
       "      <th>4</th>\n",
       "      <td>Изменить цвет фона главной страницы, чтобы увеличить вовлеченность пользователей</td>\n",
       "      <td>1.000</td>\n",
       "    </tr>\n",
       "  </tbody>\n",
       "</table>\n",
       "</div>"
      ],
      "text/plain": [
       "                                                                                                     hypothesis  \\\n",
       "8                                                       Запустить акцию, дающую скидку на товар в день рождения   \n",
       "0            Добавить два новых канала привлечения трафика, что позволит привлекать на 30% больше пользователей   \n",
       "7              Добавить форму подписки на все основные страницы, чтобы собрать базу клиентов для email-рассылок   \n",
       "6          Показать на главной странице баннеры с актуальными акциями и распродажами, чтобы увеличить конверсию   \n",
       "2  Добавить блоки рекомендаций товаров на сайт интернет магазина, чтобы повысить конверсию и средний чек заказа   \n",
       "1                                     Запустить собственную службу доставки, что сократит срок доставки заказов   \n",
       "5                      Добавить страницу отзывов клиентов о магазине, что позволит увеличить количество заказов   \n",
       "3           Изменить структура категорий, что увеличит конверсию, т.к. пользователи быстрее найдут нужный товар   \n",
       "4                              Изменить цвет фона главной страницы, чтобы увеличить вовлеченность пользователей   \n",
       "\n",
       "      ICE  \n",
       "8  16.200  \n",
       "0  13.333  \n",
       "7  11.200  \n",
       "6   8.000  \n",
       "2   7.000  \n",
       "1   2.000  \n",
       "5   1.333  \n",
       "3   1.125  \n",
       "4   1.000  "
      ]
     },
     "execution_count": 6,
     "metadata": {},
     "output_type": "execute_result"
    }
   ],
   "source": [
    "hypothesis['ICE'] = round(hypothesis['impact'] * hypothesis['confidence'] / hypothesis['efforts'], 3)\n",
    "hypothesis[['hypothesis', 'ICE']].sort_values(by='ICE', ascending=False)"
   ]
  },
  {
   "cell_type": "markdown",
   "metadata": {},
   "source": [
    "Наиболее перспективными оказались гипотезы 8, 0, 7, 6 и 2."
   ]
  },
  {
   "cell_type": "markdown",
   "metadata": {},
   "source": [
    "### RICE\n",
    "Применим фреймворк RICE для приоритизации гипотез. Отсортируем их по убыванию приоритета."
   ]
  },
  {
   "cell_type": "code",
   "execution_count": 7,
   "metadata": {},
   "outputs": [
    {
     "data": {
      "text/html": [
       "<div>\n",
       "<style scoped>\n",
       "    .dataframe tbody tr th:only-of-type {\n",
       "        vertical-align: middle;\n",
       "    }\n",
       "\n",
       "    .dataframe tbody tr th {\n",
       "        vertical-align: top;\n",
       "    }\n",
       "\n",
       "    .dataframe thead th {\n",
       "        text-align: right;\n",
       "    }\n",
       "</style>\n",
       "<table border=\"1\" class=\"dataframe\">\n",
       "  <thead>\n",
       "    <tr style=\"text-align: right;\">\n",
       "      <th></th>\n",
       "      <th>hypothesis</th>\n",
       "      <th>RICE</th>\n",
       "    </tr>\n",
       "  </thead>\n",
       "  <tbody>\n",
       "    <tr>\n",
       "      <th>7</th>\n",
       "      <td>Добавить форму подписки на все основные страницы, чтобы собрать базу клиентов для email-рассылок</td>\n",
       "      <td>112.0</td>\n",
       "    </tr>\n",
       "    <tr>\n",
       "      <th>2</th>\n",
       "      <td>Добавить блоки рекомендаций товаров на сайт интернет магазина, чтобы повысить конверсию и средний чек заказа</td>\n",
       "      <td>56.0</td>\n",
       "    </tr>\n",
       "    <tr>\n",
       "      <th>0</th>\n",
       "      <td>Добавить два новых канала привлечения трафика, что позволит привлекать на 30% больше пользователей</td>\n",
       "      <td>40.0</td>\n",
       "    </tr>\n",
       "    <tr>\n",
       "      <th>6</th>\n",
       "      <td>Показать на главной странице баннеры с актуальными акциями и распродажами, чтобы увеличить конверсию</td>\n",
       "      <td>40.0</td>\n",
       "    </tr>\n",
       "    <tr>\n",
       "      <th>8</th>\n",
       "      <td>Запустить акцию, дающую скидку на товар в день рождения</td>\n",
       "      <td>16.2</td>\n",
       "    </tr>\n",
       "    <tr>\n",
       "      <th>3</th>\n",
       "      <td>Изменить структура категорий, что увеличит конверсию, т.к. пользователи быстрее найдут нужный товар</td>\n",
       "      <td>9.0</td>\n",
       "    </tr>\n",
       "    <tr>\n",
       "      <th>1</th>\n",
       "      <td>Запустить собственную службу доставки, что сократит срок доставки заказов</td>\n",
       "      <td>4.0</td>\n",
       "    </tr>\n",
       "    <tr>\n",
       "      <th>5</th>\n",
       "      <td>Добавить страницу отзывов клиентов о магазине, что позволит увеличить количество заказов</td>\n",
       "      <td>4.0</td>\n",
       "    </tr>\n",
       "    <tr>\n",
       "      <th>4</th>\n",
       "      <td>Изменить цвет фона главной страницы, чтобы увеличить вовлеченность пользователей</td>\n",
       "      <td>3.0</td>\n",
       "    </tr>\n",
       "  </tbody>\n",
       "</table>\n",
       "</div>"
      ],
      "text/plain": [
       "                                                                                                     hypothesis  \\\n",
       "7              Добавить форму подписки на все основные страницы, чтобы собрать базу клиентов для email-рассылок   \n",
       "2  Добавить блоки рекомендаций товаров на сайт интернет магазина, чтобы повысить конверсию и средний чек заказа   \n",
       "0            Добавить два новых канала привлечения трафика, что позволит привлекать на 30% больше пользователей   \n",
       "6          Показать на главной странице баннеры с актуальными акциями и распродажами, чтобы увеличить конверсию   \n",
       "8                                                       Запустить акцию, дающую скидку на товар в день рождения   \n",
       "3           Изменить структура категорий, что увеличит конверсию, т.к. пользователи быстрее найдут нужный товар   \n",
       "1                                     Запустить собственную службу доставки, что сократит срок доставки заказов   \n",
       "5                      Добавить страницу отзывов клиентов о магазине, что позволит увеличить количество заказов   \n",
       "4                              Изменить цвет фона главной страницы, чтобы увеличить вовлеченность пользователей   \n",
       "\n",
       "    RICE  \n",
       "7  112.0  \n",
       "2   56.0  \n",
       "0   40.0  \n",
       "6   40.0  \n",
       "8   16.2  \n",
       "3    9.0  \n",
       "1    4.0  \n",
       "5    4.0  \n",
       "4    3.0  "
      ]
     },
     "execution_count": 7,
     "metadata": {},
     "output_type": "execute_result"
    }
   ],
   "source": [
    "hypothesis['RICE'] = hypothesis['reach'] * hypothesis['impact'] * hypothesis['confidence'] / hypothesis['efforts']\n",
    "\n",
    "hypothesis[['hypothesis', 'RICE']].sort_values(by='RICE', ascending=False)"
   ]
  },
  {
   "cell_type": "markdown",
   "metadata": {},
   "source": [
    "По фреймворку RICE наиболее приоритетными также оказались гипотезы 7, 2, 0, 6 и 8. Однако мы видим, что их приоритизаци изменилась."
   ]
  },
  {
   "cell_type": "markdown",
   "metadata": {},
   "source": [
    "### Вывод\n",
    "Мы проанализировали гипотезы с помощью двух фреймворков: ICE и RICE, - и выделили топ-5 в порядке приоритета. \n",
    "Мы обратили внимание, что их приоритизация меняется в зависимости от фреймворка. Действительно, RICE учитывает параметр reach - количество пользователей, которых затронет изменение, это влияет на приоритет. \n",
    "\n",
    "Так, гипотеза 8 (Запустить акцию, дающую скидку на товар в день рождения), которая оказалась на первом месте по ICE, по RICE заняла пятую строчку, потому что у нее низкий показатель охвата - 1.\n",
    "\n",
    "В то же время гипотеза 7 (Добавить форму подписки на все основные страницы, чтобы собрать базу клиентов для email-рассылок) по RICE оказалась на первом месте. Действительно, видим, что ее показатель охвата - 10, максимально возможный. По ICE она была на занимает  третью строчку.\n",
    "\n",
    "Также гипотеза 0 по ICE заняла второе место, а по RICE - третье. Позиция гипотезы 6 не изменилась (четвертое место). Гипотеза 2 заняла пятую строчку по ICE и вторую - по RICE."
   ]
  },
  {
   "cell_type": "markdown",
   "metadata": {},
   "source": [
    "## Часть II - Анализ A/B-теста\n",
    "\n",
    "Проанализируем результаты A/B-теста."
   ]
  },
  {
   "cell_type": "markdown",
   "metadata": {},
   "source": [
    "#### Знакомство с данными\n",
    "\n",
    "Проведем первое знакомство с данными."
   ]
  },
  {
   "cell_type": "code",
   "execution_count": 8,
   "metadata": {},
   "outputs": [
    {
     "data": {
      "text/html": [
       "<div>\n",
       "<style scoped>\n",
       "    .dataframe tbody tr th:only-of-type {\n",
       "        vertical-align: middle;\n",
       "    }\n",
       "\n",
       "    .dataframe tbody tr th {\n",
       "        vertical-align: top;\n",
       "    }\n",
       "\n",
       "    .dataframe thead th {\n",
       "        text-align: right;\n",
       "    }\n",
       "</style>\n",
       "<table border=\"1\" class=\"dataframe\">\n",
       "  <thead>\n",
       "    <tr style=\"text-align: right;\">\n",
       "      <th></th>\n",
       "      <th>transactionId</th>\n",
       "      <th>visitorId</th>\n",
       "      <th>date</th>\n",
       "      <th>revenue</th>\n",
       "      <th>group</th>\n",
       "    </tr>\n",
       "  </thead>\n",
       "  <tbody>\n",
       "    <tr>\n",
       "      <th>0</th>\n",
       "      <td>3667963787</td>\n",
       "      <td>3312258926</td>\n",
       "      <td>2019-08-15</td>\n",
       "      <td>1650</td>\n",
       "      <td>B</td>\n",
       "    </tr>\n",
       "    <tr>\n",
       "      <th>1</th>\n",
       "      <td>2804400009</td>\n",
       "      <td>3642806036</td>\n",
       "      <td>2019-08-15</td>\n",
       "      <td>730</td>\n",
       "      <td>B</td>\n",
       "    </tr>\n",
       "    <tr>\n",
       "      <th>2</th>\n",
       "      <td>2961555356</td>\n",
       "      <td>4069496402</td>\n",
       "      <td>2019-08-15</td>\n",
       "      <td>400</td>\n",
       "      <td>A</td>\n",
       "    </tr>\n",
       "    <tr>\n",
       "      <th>3</th>\n",
       "      <td>3797467345</td>\n",
       "      <td>1196621759</td>\n",
       "      <td>2019-08-15</td>\n",
       "      <td>9759</td>\n",
       "      <td>B</td>\n",
       "    </tr>\n",
       "    <tr>\n",
       "      <th>4</th>\n",
       "      <td>2282983706</td>\n",
       "      <td>2322279887</td>\n",
       "      <td>2019-08-15</td>\n",
       "      <td>2308</td>\n",
       "      <td>B</td>\n",
       "    </tr>\n",
       "    <tr>\n",
       "      <th>5</th>\n",
       "      <td>182168103</td>\n",
       "      <td>935554773</td>\n",
       "      <td>2019-08-15</td>\n",
       "      <td>2210</td>\n",
       "      <td>B</td>\n",
       "    </tr>\n",
       "    <tr>\n",
       "      <th>6</th>\n",
       "      <td>398296753</td>\n",
       "      <td>2900797465</td>\n",
       "      <td>2019-08-15</td>\n",
       "      <td>1860</td>\n",
       "      <td>B</td>\n",
       "    </tr>\n",
       "    <tr>\n",
       "      <th>7</th>\n",
       "      <td>2626614568</td>\n",
       "      <td>78758296</td>\n",
       "      <td>2019-08-15</td>\n",
       "      <td>1044</td>\n",
       "      <td>A</td>\n",
       "    </tr>\n",
       "    <tr>\n",
       "      <th>8</th>\n",
       "      <td>1576988021</td>\n",
       "      <td>295230930</td>\n",
       "      <td>2019-08-15</td>\n",
       "      <td>13710</td>\n",
       "      <td>A</td>\n",
       "    </tr>\n",
       "    <tr>\n",
       "      <th>9</th>\n",
       "      <td>1506739906</td>\n",
       "      <td>1882260405</td>\n",
       "      <td>2019-08-15</td>\n",
       "      <td>1855</td>\n",
       "      <td>B</td>\n",
       "    </tr>\n",
       "  </tbody>\n",
       "</table>\n",
       "</div>"
      ],
      "text/plain": [
       "   transactionId   visitorId        date  revenue group\n",
       "0     3667963787  3312258926  2019-08-15     1650     B\n",
       "1     2804400009  3642806036  2019-08-15      730     B\n",
       "2     2961555356  4069496402  2019-08-15      400     A\n",
       "3     3797467345  1196621759  2019-08-15     9759     B\n",
       "4     2282983706  2322279887  2019-08-15     2308     B\n",
       "5      182168103   935554773  2019-08-15     2210     B\n",
       "6      398296753  2900797465  2019-08-15     1860     B\n",
       "7     2626614568    78758296  2019-08-15     1044     A\n",
       "8     1576988021   295230930  2019-08-15    13710     A\n",
       "9     1506739906  1882260405  2019-08-15     1855     B"
      ]
     },
     "execution_count": 8,
     "metadata": {},
     "output_type": "execute_result"
    }
   ],
   "source": [
    "orders.head(10)"
   ]
  },
  {
   "cell_type": "code",
   "execution_count": 9,
   "metadata": {},
   "outputs": [
    {
     "name": "stdout",
     "output_type": "stream",
     "text": [
      "<class 'pandas.core.frame.DataFrame'>\n",
      "RangeIndex: 1197 entries, 0 to 1196\n",
      "Data columns (total 5 columns):\n",
      " #   Column         Non-Null Count  Dtype \n",
      "---  ------         --------------  ----- \n",
      " 0   transactionId  1197 non-null   int64 \n",
      " 1   visitorId      1197 non-null   int64 \n",
      " 2   date           1197 non-null   object\n",
      " 3   revenue        1197 non-null   int64 \n",
      " 4   group          1197 non-null   object\n",
      "dtypes: int64(3), object(2)\n",
      "memory usage: 46.9+ KB\n"
     ]
    }
   ],
   "source": [
    "orders.info(10)"
   ]
  },
  {
   "cell_type": "code",
   "execution_count": 10,
   "metadata": {},
   "outputs": [
    {
     "data": {
      "text/html": [
       "<div>\n",
       "<style scoped>\n",
       "    .dataframe tbody tr th:only-of-type {\n",
       "        vertical-align: middle;\n",
       "    }\n",
       "\n",
       "    .dataframe tbody tr th {\n",
       "        vertical-align: top;\n",
       "    }\n",
       "\n",
       "    .dataframe thead th {\n",
       "        text-align: right;\n",
       "    }\n",
       "</style>\n",
       "<table border=\"1\" class=\"dataframe\">\n",
       "  <thead>\n",
       "    <tr style=\"text-align: right;\">\n",
       "      <th></th>\n",
       "      <th>date</th>\n",
       "      <th>group</th>\n",
       "      <th>visitors</th>\n",
       "    </tr>\n",
       "  </thead>\n",
       "  <tbody>\n",
       "    <tr>\n",
       "      <th>0</th>\n",
       "      <td>2019-08-01</td>\n",
       "      <td>A</td>\n",
       "      <td>719</td>\n",
       "    </tr>\n",
       "    <tr>\n",
       "      <th>1</th>\n",
       "      <td>2019-08-02</td>\n",
       "      <td>A</td>\n",
       "      <td>619</td>\n",
       "    </tr>\n",
       "    <tr>\n",
       "      <th>2</th>\n",
       "      <td>2019-08-03</td>\n",
       "      <td>A</td>\n",
       "      <td>507</td>\n",
       "    </tr>\n",
       "    <tr>\n",
       "      <th>3</th>\n",
       "      <td>2019-08-04</td>\n",
       "      <td>A</td>\n",
       "      <td>717</td>\n",
       "    </tr>\n",
       "    <tr>\n",
       "      <th>4</th>\n",
       "      <td>2019-08-05</td>\n",
       "      <td>A</td>\n",
       "      <td>756</td>\n",
       "    </tr>\n",
       "    <tr>\n",
       "      <th>5</th>\n",
       "      <td>2019-08-06</td>\n",
       "      <td>A</td>\n",
       "      <td>667</td>\n",
       "    </tr>\n",
       "    <tr>\n",
       "      <th>6</th>\n",
       "      <td>2019-08-07</td>\n",
       "      <td>A</td>\n",
       "      <td>644</td>\n",
       "    </tr>\n",
       "    <tr>\n",
       "      <th>7</th>\n",
       "      <td>2019-08-08</td>\n",
       "      <td>A</td>\n",
       "      <td>610</td>\n",
       "    </tr>\n",
       "    <tr>\n",
       "      <th>8</th>\n",
       "      <td>2019-08-09</td>\n",
       "      <td>A</td>\n",
       "      <td>617</td>\n",
       "    </tr>\n",
       "    <tr>\n",
       "      <th>9</th>\n",
       "      <td>2019-08-10</td>\n",
       "      <td>A</td>\n",
       "      <td>406</td>\n",
       "    </tr>\n",
       "  </tbody>\n",
       "</table>\n",
       "</div>"
      ],
      "text/plain": [
       "         date group  visitors\n",
       "0  2019-08-01     A       719\n",
       "1  2019-08-02     A       619\n",
       "2  2019-08-03     A       507\n",
       "3  2019-08-04     A       717\n",
       "4  2019-08-05     A       756\n",
       "5  2019-08-06     A       667\n",
       "6  2019-08-07     A       644\n",
       "7  2019-08-08     A       610\n",
       "8  2019-08-09     A       617\n",
       "9  2019-08-10     A       406"
      ]
     },
     "execution_count": 10,
     "metadata": {},
     "output_type": "execute_result"
    }
   ],
   "source": [
    "visitors.head(10)"
   ]
  },
  {
   "cell_type": "code",
   "execution_count": 11,
   "metadata": {},
   "outputs": [
    {
     "name": "stdout",
     "output_type": "stream",
     "text": [
      "<class 'pandas.core.frame.DataFrame'>\n",
      "RangeIndex: 62 entries, 0 to 61\n",
      "Data columns (total 3 columns):\n",
      " #   Column    Non-Null Count  Dtype \n",
      "---  ------    --------------  ----- \n",
      " 0   date      62 non-null     object\n",
      " 1   group     62 non-null     object\n",
      " 2   visitors  62 non-null     int64 \n",
      "dtypes: int64(1), object(2)\n",
      "memory usage: 1.6+ KB\n"
     ]
    }
   ],
   "source": [
    "visitors.info(10)"
   ]
  },
  {
   "cell_type": "markdown",
   "metadata": {},
   "source": [
    "В целом данные выглядят нормально, количество срок говорит нам об отсутствии пропусков. Существенных проблем с оформлением не видим.\n",
    "\n",
    "Однако есть ряд моментов, которые необходимо исправить для последующего анализа:\n",
    "\n",
    "- привести заголовки столбцов к общепринятому формату\n",
    "- исправить тип данных в колонках с датами"
   ]
  },
  {
   "cell_type": "markdown",
   "metadata": {},
   "source": [
    "Приведем названия столбцов к общепринятому формату."
   ]
  },
  {
   "cell_type": "code",
   "execution_count": 12,
   "metadata": {},
   "outputs": [],
   "source": [
    "orders.rename(\n",
    "    columns={\n",
    "        'transactionId' : 'transaction_id',\n",
    "        'visitorId' : 'visitor_id'\n",
    "    }, inplace=True\n",
    ")"
   ]
  },
  {
   "cell_type": "markdown",
   "metadata": {},
   "source": [
    "Преобразуем данные о времени в нужный тип."
   ]
  },
  {
   "cell_type": "code",
   "execution_count": 13,
   "metadata": {},
   "outputs": [],
   "source": [
    "orders['date'] = pd.to_datetime(orders['date'])\n",
    "visitors['date'] = pd.to_datetime(visitors['date'])"
   ]
  },
  {
   "cell_type": "markdown",
   "metadata": {},
   "source": [
    "Проверим данные на наличие дубликатов."
   ]
  },
  {
   "cell_type": "code",
   "execution_count": 14,
   "metadata": {},
   "outputs": [
    {
     "data": {
      "text/plain": [
       "0"
      ]
     },
     "execution_count": 14,
     "metadata": {},
     "output_type": "execute_result"
    }
   ],
   "source": [
    "orders.duplicated().sum()"
   ]
  },
  {
   "cell_type": "code",
   "execution_count": 15,
   "metadata": {},
   "outputs": [
    {
     "data": {
      "text/plain": [
       "0"
      ]
     },
     "execution_count": 15,
     "metadata": {},
     "output_type": "execute_result"
    }
   ],
   "source": [
    "visitors.duplicated().sum()"
   ]
  },
  {
   "cell_type": "markdown",
   "metadata": {},
   "source": [
    "Проверим, есть ли в таблице orders пользователи, оказавшиеся одновременно в обеих группах."
   ]
  },
  {
   "cell_type": "code",
   "execution_count": 16,
   "metadata": {
    "scrolled": true
   },
   "outputs": [
    {
     "data": {
      "text/plain": [
       "group    58\n",
       "dtype: int64"
      ]
     },
     "execution_count": 16,
     "metadata": {},
     "output_type": "execute_result"
    }
   ],
   "source": [
    "orders.groupby('visitor_id').agg({'group' : 'nunique'}).query('group>1').count()"
   ]
  },
  {
   "cell_type": "markdown",
   "metadata": {},
   "source": [
    "Нашли 58 пользователей. В обычных условиях их стоило бы удалить или обратить внимание разработчиков на ошибку. В данном случае мы можем их удалить только в таблице orders, потому что в visitors нет их id. Это привело бы к искажению данных. Ниже приводу код, как можно было бы их удалить."
   ]
  },
  {
   "cell_type": "markdown",
   "metadata": {},
   "source": [
    "**Вывод:** Мы провели первое знакомство с данными, не заметили существенных проблем. В данных нет пропусков и дубликатов.\n",
    "Однако мы заметили 58 пользователей, которые присутствуют одновременно в обеих группах теста.\n",
    "\n",
    "Мы подготовили данные для анализа: привели заголовки столбцов к общепринятому формату. Также исправили тип данных в колонках с датами."
   ]
  },
  {
   "cell_type": "markdown",
   "metadata": {},
   "source": [
    "### Кумулятивная выручка \n",
    "\n",
    "Соберём агрегированные кумулятивные по дням данные о заказах. "
   ]
  },
  {
   "cell_type": "code",
   "execution_count": 17,
   "metadata": {},
   "outputs": [
    {
     "data": {
      "text/html": [
       "<div>\n",
       "<style scoped>\n",
       "    .dataframe tbody tr th:only-of-type {\n",
       "        vertical-align: middle;\n",
       "    }\n",
       "\n",
       "    .dataframe tbody tr th {\n",
       "        vertical-align: top;\n",
       "    }\n",
       "\n",
       "    .dataframe thead th {\n",
       "        text-align: right;\n",
       "    }\n",
       "</style>\n",
       "<table border=\"1\" class=\"dataframe\">\n",
       "  <thead>\n",
       "    <tr style=\"text-align: right;\">\n",
       "      <th></th>\n",
       "      <th>date</th>\n",
       "      <th>group</th>\n",
       "      <th>orders</th>\n",
       "      <th>buyers</th>\n",
       "      <th>revenue</th>\n",
       "      <th>visitors</th>\n",
       "    </tr>\n",
       "  </thead>\n",
       "  <tbody>\n",
       "    <tr>\n",
       "      <th>0</th>\n",
       "      <td>2019-08-01</td>\n",
       "      <td>A</td>\n",
       "      <td>24</td>\n",
       "      <td>20</td>\n",
       "      <td>148579</td>\n",
       "      <td>719</td>\n",
       "    </tr>\n",
       "    <tr>\n",
       "      <th>1</th>\n",
       "      <td>2019-08-01</td>\n",
       "      <td>B</td>\n",
       "      <td>21</td>\n",
       "      <td>20</td>\n",
       "      <td>101217</td>\n",
       "      <td>713</td>\n",
       "    </tr>\n",
       "    <tr>\n",
       "      <th>2</th>\n",
       "      <td>2019-08-02</td>\n",
       "      <td>A</td>\n",
       "      <td>44</td>\n",
       "      <td>38</td>\n",
       "      <td>242401</td>\n",
       "      <td>1338</td>\n",
       "    </tr>\n",
       "    <tr>\n",
       "      <th>3</th>\n",
       "      <td>2019-08-02</td>\n",
       "      <td>B</td>\n",
       "      <td>45</td>\n",
       "      <td>43</td>\n",
       "      <td>266748</td>\n",
       "      <td>1294</td>\n",
       "    </tr>\n",
       "    <tr>\n",
       "      <th>4</th>\n",
       "      <td>2019-08-03</td>\n",
       "      <td>A</td>\n",
       "      <td>68</td>\n",
       "      <td>62</td>\n",
       "      <td>354874</td>\n",
       "      <td>1845</td>\n",
       "    </tr>\n",
       "  </tbody>\n",
       "</table>\n",
       "</div>"
      ],
      "text/plain": [
       "        date group  orders  buyers  revenue  visitors\n",
       "0 2019-08-01     A      24      20   148579       719\n",
       "1 2019-08-01     B      21      20   101217       713\n",
       "2 2019-08-02     A      44      38   242401      1338\n",
       "3 2019-08-02     B      45      43   266748      1294\n",
       "4 2019-08-03     A      68      62   354874      1845"
      ]
     },
     "execution_count": 17,
     "metadata": {},
     "output_type": "execute_result"
    }
   ],
   "source": [
    "# создаем массив уникальных пар значений дат и групп теста\n",
    "datesGroups = orders[['date','group']].drop_duplicates()\n",
    "\n",
    "# получаем агрегированные кумулятивные по дням данные о заказах \n",
    "ordersAggregated = datesGroups.apply(lambda x: orders[np.logical_and(orders['date'] <= x['date'], orders['group'] == x['group'])].agg({'date' : 'max', 'group' : 'max', 'transaction_id' : 'nunique', 'visitor_id' : 'nunique', 'revenue' : 'sum'}), axis=1).sort_values(by=['date','group'])\n",
    "\n",
    "# получаем агрегированные кумулятивные по дням данные о посетителях интернет-магазина \n",
    "visitorsAggregated = datesGroups.apply(lambda x: visitors[np.logical_and(visitors['date'] <= x['date'], visitors['group'] == x['group'])].agg({'date' : 'max', 'group' : 'max', 'visitors' : 'sum'}), axis=1).sort_values(by=['date','group'])\n",
    "\n",
    "# объединяем кумулятивные данные в одной таблице и присваиваем ее столбцам понятные названия\n",
    "cumulativeData = ordersAggregated.merge(visitorsAggregated, left_on=['date', 'group'], right_on=['date', 'group'])\n",
    "cumulativeData.columns = ['date', 'group', 'orders', 'buyers', 'revenue', 'visitors']\n",
    "\n",
    "cumulativeData.head(5)"
   ]
  },
  {
   "cell_type": "markdown",
   "metadata": {},
   "source": [
    "Построим график кумулятивной выручки по группам."
   ]
  },
  {
   "cell_type": "code",
   "execution_count": 18,
   "metadata": {},
   "outputs": [
    {
     "data": {
      "image/png": "[encoded data removed]",
      "text/plain": [
       "<Figure size 1200x500 with 1 Axes>"
      ]
     },
     "metadata": {},
     "output_type": "display_data"
    }
   ],
   "source": [
    "# датафрейм с кумулятивным количеством заказов и кумулятивной выручкой по дням в группе А\n",
    "\n",
    "cumulativeRevenueA = cumulativeData[cumulativeData['group']=='A'][['date','revenue', 'orders']]\n",
    "\n",
    "# датафрейм с кумулятивным количеством заказов и кумулятивной выручкой по дням в группе B\n",
    "\n",
    "cumulativeRevenueB = cumulativeData[cumulativeData['group']=='B'][['date','revenue', 'orders']]\n",
    "\n",
    "# Строим график выручки группы А\n",
    "\n",
    "plt.figure(figsize=(12, 5))\n",
    "\n",
    "plt.plot(cumulativeRevenueA['date'], cumulativeRevenueA['revenue'], label='A')\n",
    "\n",
    "# Строим график выручки группы B\n",
    "\n",
    "plt.plot(cumulativeRevenueB['date'], cumulativeRevenueB['revenue'], label='B')\n",
    "\n",
    "plt.title('Кумулятивная выручка по группам')\n",
    "plt.xlabel('Дата')\n",
    "plt.ylabel('Выручка')\n",
    "plt.legend();"
   ]
  },
  {
   "cell_type": "markdown",
   "metadata": {},
   "source": [
    "Кумулятивная выручка почти равномерно увеличивается в течение всего теста. В начале теста обе группы шли ровно, однако уже на четвертый день группа B стала демонстрировать лучшую динамику роста. \n",
    "Заметно, что в этой группе в одной из точек происходит резкий рост. Это может говорить о всплесках числа заказов, либо о появлении очень дорогих заказов в выборке. "
   ]
  },
  {
   "cell_type": "markdown",
   "metadata": {},
   "source": [
    "### Кумулятивный средний чек\n",
    "\n",
    "Построим график кумулятивного среднего чека по группам. Для этого разделим кумулятивную выручку на кумулятивное число заказов."
   ]
  },
  {
   "cell_type": "code",
   "execution_count": 19,
   "metadata": {},
   "outputs": [
    {
     "data": {
      "image/png": "[encoded data removed]",
      "text/plain": [
       "<Figure size 1200x500 with 1 Axes>"
      ]
     },
     "metadata": {},
     "output_type": "display_data"
    }
   ],
   "source": [
    "plt.figure(figsize=(12, 5))\n",
    "\n",
    "plt.plot(cumulativeRevenueA['date'], cumulativeRevenueA['revenue']/cumulativeRevenueA['orders'], label='A')\n",
    "\n",
    "plt.plot(cumulativeRevenueB['date'], cumulativeRevenueB['revenue']/cumulativeRevenueB['orders'], label='B')\n",
    "\n",
    "plt.title('Средний чек по группам')\n",
    "plt.xlabel('Дата')\n",
    "plt.ylabel('Средний чек')\n",
    "plt.legend();"
   ]
  },
  {
   "cell_type": "markdown",
   "metadata": {},
   "source": [
    "Динамика средних чеков схожа с динамикой роста выручки. Мы видим снижение средних чеков в группе А в начале теста, за ним последовал постепенный рост и всплеск 13 августа, за которым показатель стабилизировался.\n",
    "\n",
    "Что касается группы В, в начале теста наблюдался резкий рост, затем динамика была неоднородной. 18 августа наблюдался резкий всплеск, вероятно, прошел большо заказ, о котором мы предположили ранее. Затем динамика стабилизировалась и показатель перешел к постепенному снижению."
   ]
  },
  {
   "cell_type": "markdown",
   "metadata": {},
   "source": [
    "### Относительное различие чека\n",
    "\n",
    "Построим график относительного изменения кумулятивного среднего чека группы B к группе A."
   ]
  },
  {
   "cell_type": "code",
   "execution_count": 20,
   "metadata": {},
   "outputs": [
    {
     "data": {
      "image/png": "[encoded data removed]",
      "text/plain": [
       "<Figure size 1200x500 with 1 Axes>"
      ]
     },
     "metadata": {},
     "output_type": "display_data"
    }
   ],
   "source": [
    "# собираем данные в одном датафрейме\n",
    "\n",
    "mergedCumulativeRevenue = cumulativeRevenueA.merge(cumulativeRevenueB, left_on='date', right_on='date', how='left', suffixes=['A', 'B'])\n",
    "\n",
    "# cтроим отношение средних чеков\n",
    "\n",
    "plt.figure(figsize=(12, 5))\n",
    "\n",
    "plt.plot(mergedCumulativeRevenue['date'], (mergedCumulativeRevenue['revenueB']/mergedCumulativeRevenue['ordersB'])/(mergedCumulativeRevenue['revenueA']/mergedCumulativeRevenue['ordersA'])-1)\n",
    "\n",
    "# добавляем ось X\n",
    "\n",
    "plt.axhline(y=0, color='black', linestyle='--')\n",
    "plt.title('Различие кумулятивного чека B/A')\n",
    "plt.xlabel('Дата')\n",
    "plt.ylabel('Изменение');"
   ]
  },
  {
   "cell_type": "markdown",
   "metadata": {},
   "source": [
    "График различия между группами резко скачет. Это опять же свидетельствует о крупных заказах и выбросах. В целом результаты группы В лучше группы А, при этом видим тенденцию к их ухудшению. В целом все три графика демонстрируют одну картину. "
   ]
  },
  {
   "cell_type": "markdown",
   "metadata": {},
   "source": [
    "### Кумулятивное среднее количество заказов на посетителя\n",
    "\n",
    "Построим график кумулятивного среднего количества заказов на посетителя по группам. Это график конверсии."
   ]
  },
  {
   "cell_type": "code",
   "execution_count": 21,
   "metadata": {},
   "outputs": [
    {
     "data": {
      "image/png": "[encoded data removed]",
      "text/plain": [
       "<Figure size 1200x500 with 1 Axes>"
      ]
     },
     "metadata": {},
     "output_type": "display_data"
    }
   ],
   "source": [
    "# считаем кумулятивную конверсию\n",
    "\n",
    "cumulativeData['conversion'] = cumulativeData['orders']/cumulativeData['visitors']\n",
    "\n",
    "# отделяем данные по группе A\n",
    "\n",
    "cumulativeDataA = cumulativeData[cumulativeData['group']=='A']\n",
    "\n",
    "# отделяем данные по группе B\n",
    "\n",
    "cumulativeDataB = cumulativeData[cumulativeData['group']=='B']\n",
    "\n",
    "# строим графики\n",
    "plt.figure(figsize=(12, 5))\n",
    "plt.plot(cumulativeDataA['date'], cumulativeDataA['conversion'], label='A')\n",
    "plt.plot(cumulativeDataB['date'], cumulativeDataB['conversion'], label='B')\n",
    "plt.title('Кумулятивное среднее количество заказов на посетителя')\n",
    "plt.xlabel('Дата')\n",
    "plt.ylabel('Конверсия')\n",
    "plt.legend();"
   ]
  },
  {
   "cell_type": "markdown",
   "metadata": {},
   "source": [
    "Конверсии в обеих группах не показывают плавной динамики. В начале теста обе группы резко скакнули вверх, затем группа В вырвалась вперед, а А - значительно просела."
   ]
  },
  {
   "cell_type": "markdown",
   "metadata": {},
   "source": [
    "### Относительное различие кумулятивных конверсий\n",
    "\n",
    "Построим график относительного изменения кумулятивного среднего количества заказов на посетителя группы B к группе A. "
   ]
  },
  {
   "cell_type": "code",
   "execution_count": 22,
   "metadata": {},
   "outputs": [
    {
     "data": {
      "image/png": "[encoded data removed]",
      "text/plain": [
       "<Figure size 1200x500 with 1 Axes>"
      ]
     },
     "metadata": {},
     "output_type": "display_data"
    }
   ],
   "source": [
    "mergedCumulativeConversions = cumulativeDataA[['date','conversion']].merge(cumulativeDataB[['date','conversion']], left_on='date', right_on='date', how='left', suffixes=['A', 'B'])\n",
    "\n",
    "plt.figure(figsize=(12, 5))\n",
    "\n",
    "plt.plot(mergedCumulativeConversions['date'], mergedCumulativeConversions['conversionB']/mergedCumulativeConversions['conversionA']-1, label=\"Относительный прирост конверсии группы B относительно группы A\")\n",
    "\n",
    "plt.title('Относительное различие кумулятивных конверсий')\n",
    "plt.xlabel('Дата')\n",
    "plt.ylabel('Изменение')\n",
    "\n",
    "plt.legend()\n",
    "\n",
    "plt.axhline(y=0, color='black', linestyle='--')\n",
    "plt.axhline(y=-0.1, color='grey', linestyle='--');"
   ]
  },
  {
   "cell_type": "markdown",
   "metadata": {},
   "source": [
    "В начале теста группа B вырвалась вперед, затем сильно просела относительно группы A, затем вновь вырвалась вперёд. Можно сказать, что относительная конверсия группы В стабилизировалась в позитивной зоне."
   ]
  },
  {
   "cell_type": "markdown",
   "metadata": {},
   "source": [
    "### Точечный график количества заказов по пользователям\n",
    "\n",
    "Построим точечный график количества заказов по пользователям.\n",
    "\n",
    "Подсчитаем количество заказов по пользователям и посмотрим на результат."
   ]
  },
  {
   "cell_type": "code",
   "execution_count": 23,
   "metadata": {},
   "outputs": [
    {
     "data": {
      "text/html": [
       "<div>\n",
       "<style scoped>\n",
       "    .dataframe tbody tr th:only-of-type {\n",
       "        vertical-align: middle;\n",
       "    }\n",
       "\n",
       "    .dataframe tbody tr th {\n",
       "        vertical-align: top;\n",
       "    }\n",
       "\n",
       "    .dataframe thead th {\n",
       "        text-align: right;\n",
       "    }\n",
       "</style>\n",
       "<table border=\"1\" class=\"dataframe\">\n",
       "  <thead>\n",
       "    <tr style=\"text-align: right;\">\n",
       "      <th></th>\n",
       "      <th>visitor_id</th>\n",
       "      <th>orders</th>\n",
       "    </tr>\n",
       "  </thead>\n",
       "  <tbody>\n",
       "    <tr>\n",
       "      <th>1023</th>\n",
       "      <td>4256040402</td>\n",
       "      <td>11</td>\n",
       "    </tr>\n",
       "    <tr>\n",
       "      <th>591</th>\n",
       "      <td>2458001652</td>\n",
       "      <td>11</td>\n",
       "    </tr>\n",
       "    <tr>\n",
       "      <th>569</th>\n",
       "      <td>2378935119</td>\n",
       "      <td>9</td>\n",
       "    </tr>\n",
       "    <tr>\n",
       "      <th>487</th>\n",
       "      <td>2038680547</td>\n",
       "      <td>8</td>\n",
       "    </tr>\n",
       "    <tr>\n",
       "      <th>44</th>\n",
       "      <td>199603092</td>\n",
       "      <td>5</td>\n",
       "    </tr>\n",
       "    <tr>\n",
       "      <th>744</th>\n",
       "      <td>3062433592</td>\n",
       "      <td>5</td>\n",
       "    </tr>\n",
       "    <tr>\n",
       "      <th>55</th>\n",
       "      <td>237748145</td>\n",
       "      <td>5</td>\n",
       "    </tr>\n",
       "    <tr>\n",
       "      <th>917</th>\n",
       "      <td>3803269165</td>\n",
       "      <td>5</td>\n",
       "    </tr>\n",
       "    <tr>\n",
       "      <th>299</th>\n",
       "      <td>1230306981</td>\n",
       "      <td>5</td>\n",
       "    </tr>\n",
       "    <tr>\n",
       "      <th>897</th>\n",
       "      <td>3717692402</td>\n",
       "      <td>5</td>\n",
       "    </tr>\n",
       "  </tbody>\n",
       "</table>\n",
       "</div>"
      ],
      "text/plain": [
       "      visitor_id  orders\n",
       "1023  4256040402      11\n",
       "591   2458001652      11\n",
       "569   2378935119       9\n",
       "487   2038680547       8\n",
       "44     199603092       5\n",
       "744   3062433592       5\n",
       "55     237748145       5\n",
       "917   3803269165       5\n",
       "299   1230306981       5\n",
       "897   3717692402       5"
      ]
     },
     "execution_count": 23,
     "metadata": {},
     "output_type": "execute_result"
    }
   ],
   "source": [
    "ordersByUsers = (\n",
    "    orders.groupby('visitor_id', as_index=False)\n",
    "    .agg({'transaction_id': 'nunique'})\n",
    ")\n",
    "\n",
    "ordersByUsers.columns = ['visitor_id', 'orders']\n",
    "\n",
    "ordersByUsers.sort_values(by='orders', ascending=False).head(10)"
   ]
  },
  {
   "cell_type": "markdown",
   "metadata": {},
   "source": [
    "Есть пользователи, которые совершали от 5 до 11 заказов, это, вероятно, гораздо больше, чем средний пользователь."
   ]
  },
  {
   "cell_type": "code",
   "execution_count": 24,
   "metadata": {},
   "outputs": [
    {
     "data": {
      "image/png": "[encoded data removed]",
      "text/plain": [
       "<Figure size 640x480 with 1 Axes>"
      ]
     },
     "metadata": {},
     "output_type": "display_data"
    }
   ],
   "source": [
    "# Построим точечную диаграмму\n",
    "\n",
    "x_values = pd.Series(range(0,len(ordersByUsers)))\n",
    "\n",
    "plt.scatter(x_values, ordersByUsers['orders'])\n",
    "\n",
    "plt.title('Количество заказов по пользователям')\n",
    "plt.xlabel('Объем')\n",
    "plt.ylabel('Количество');"
   ]
  },
  {
   "cell_type": "markdown",
   "metadata": {},
   "source": [
    "Видим, что в основном покупают один раз, но есть и редкие пользователи, которые совершают больше трех покупок. Необходимо уточнить их долю, чтобы понять, считать их аномалиями или нет."
   ]
  },
  {
   "cell_type": "markdown",
   "metadata": {},
   "source": [
    "### 95-й и 99-й перцентили количества заказов на пользователя\n",
    "\n",
    "Посчитаем 95-й и 99-й перцентили количества заказов на пользователя. Выберем границу для определения аномальных пользователей."
   ]
  },
  {
   "cell_type": "code",
   "execution_count": 25,
   "metadata": {},
   "outputs": [
    {
     "data": {
      "text/plain": [
       "array([2., 4.])"
      ]
     },
     "execution_count": 25,
     "metadata": {},
     "output_type": "execute_result"
    }
   ],
   "source": [
    "np.percentile(ordersByUsers['orders'], [95, 99])"
   ]
  },
  {
   "cell_type": "markdown",
   "metadata": {},
   "source": [
    "Доля пользователей, совершивших больше двух заказов, не превышает 5%, а больше 4 заказов - не превышает 1%. Стоит выбрать четыре заказа как верхнюю границу и отсеять аномалии по ней.  "
   ]
  },
  {
   "cell_type": "markdown",
   "metadata": {},
   "source": [
    "### Стоимость заказов\n",
    "\n",
    "Построим точечный график стоимостей заказов."
   ]
  },
  {
   "cell_type": "code",
   "execution_count": 26,
   "metadata": {},
   "outputs": [
    {
     "data": {
      "image/png": "[encoded data removed]",
      "text/plain": [
       "<Figure size 1000x500 with 1 Axes>"
      ]
     },
     "metadata": {},
     "output_type": "display_data"
    }
   ],
   "source": [
    "x_values = pd.Series(range(0,len(orders['revenue'])))\n",
    "\n",
    "plt.figure(figsize=(10,5))\n",
    "plt.scatter(x_values, orders['revenue'])\n",
    "plt.title('Стоимость заказов')\n",
    "plt.xlabel('Дата')\n",
    "plt.ylabel('Стоимость'); "
   ]
  },
  {
   "cell_type": "code",
   "execution_count": 27,
   "metadata": {},
   "outputs": [
    {
     "data": {
      "image/png": "[encoded data removed]",
      "text/plain": [
       "<Figure size 1000x500 with 1 Axes>"
      ]
     },
     "metadata": {},
     "output_type": "display_data"
    }
   ],
   "source": [
    "x_values = pd.Series(range(0,len(orders['revenue'])))\n",
    "\n",
    "plt.figure(figsize=(10,5))\n",
    "plt.scatter(x_values, orders['revenue'])\n",
    "plt.title('Стоимость заказов')\n",
    "plt.xlabel('Дата')\n",
    "plt.ylabel('Стоимость')\n",
    "plt.ylim([0,100000]);"
   ]
  },
  {
   "cell_type": "markdown",
   "metadata": {},
   "source": [
    "Большинство заказов лежит в диапазоне 0 - 20000. Видим один значительный заказ выше отметки 120000 - видимо, это и есть вброс, который мы видели на графиках ранее. "
   ]
  },
  {
   "cell_type": "code",
   "execution_count": 28,
   "metadata": {},
   "outputs": [
    {
     "data": {
      "text/plain": [
       "1294500"
      ]
     },
     "execution_count": 28,
     "metadata": {},
     "output_type": "execute_result"
    }
   ],
   "source": [
    "orders['revenue'].max()"
   ]
  },
  {
   "cell_type": "markdown",
   "metadata": {},
   "source": [
    "Вот этот заказ."
   ]
  },
  {
   "cell_type": "markdown",
   "metadata": {},
   "source": [
    "### 95-й и 99-й перцентили стоимости заказов\n",
    "\n",
    "Посчитаем перцентили стоимости заказов. "
   ]
  },
  {
   "cell_type": "code",
   "execution_count": 29,
   "metadata": {},
   "outputs": [
    {
     "name": "stdout",
     "output_type": "stream",
     "text": [
      "[28000.  58233.2]\n"
     ]
    }
   ],
   "source": [
    "print(np.percentile(orders['revenue'], [95, 99])) "
   ]
  },
  {
   "cell_type": "markdown",
   "metadata": {},
   "source": [
    "Не более 5% заказов дороже 28 000 и не более 1% дороже 58 233. Аномалии - все, что за 99 перцентилем."
   ]
  },
  {
   "cell_type": "markdown",
   "metadata": {},
   "source": [
    "### Cтатистическая значимость различий в среднем количестве заказов на посетителя\n",
    "\n",
    "Посчитаем статистическую значимость различий в среднем количестве заказов на посетителя между группами по «сырым» данным.\n",
    "\n",
    "Сформулируем гипотезы:\n",
    "\n",
    "- H0: различий в среднем количестве заказов между группами нет. \n",
    "\n",
    "- H1: различия в среднем количестве заказов между группами есть.\n",
    "\n",
    "Подготовим данные."
   ]
  },
  {
   "cell_type": "code",
   "execution_count": 30,
   "metadata": {},
   "outputs": [],
   "source": [
    "visitorsADaily = visitors[visitors['group'] == 'A'][['date', 'visitors']]\n",
    "visitorsADaily.columns = ['date', 'visitorsPerDateA']\n",
    "\n",
    "visitorsBDaily = visitors[visitors['group'] == 'B'][['date', 'visitors']]\n",
    "visitorsBDaily.columns = ['date', 'visitorsPerDateB']"
   ]
  },
  {
   "cell_type": "markdown",
   "metadata": {},
   "source": [
    "Создадим переменные, в которых для пользователей, которые заказывали хотя бы один раз, укажем число совершённых заказов. "
   ]
  },
  {
   "cell_type": "code",
   "execution_count": 31,
   "metadata": {},
   "outputs": [],
   "source": [
    "ordersByUsersA = (\n",
    "    orders[orders['group'] == 'A']\n",
    "    .groupby('visitor_id', as_index=False)\n",
    "    .agg({'transaction_id': pd.Series.nunique})\n",
    ")\n",
    "ordersByUsersA.columns = ['visitor_id', 'orders']\n",
    "\n",
    "ordersByUsersB = (\n",
    "    orders[orders['group'] == 'B']\n",
    "    .groupby('visitor_id', as_index=False)\n",
    "    .agg({'transaction_id': pd.Series.nunique})\n",
    ")\n",
    "ordersByUsersB.columns = ['visitor_id', 'orders'] "
   ]
  },
  {
   "cell_type": "markdown",
   "metadata": {},
   "source": [
    "Объявим переменные, в которых пользователям из разных групп будет соответствовать количество заказов. Тем, кто ничего не заказал, будут соответствовать нули. Это необходимо, чтобы подготовить выборки к проверке критерием Манна-Уитни."
   ]
  },
  {
   "cell_type": "code",
   "execution_count": 32,
   "metadata": {},
   "outputs": [],
   "source": [
    "sampleA = pd.concat([ordersByUsersA['orders'],pd.Series(0, index=np.arange(visitorsADaily['visitorsPerDateA'].sum() - len(ordersByUsersA['orders'])), name='orders')],axis=0)\n",
    "\n",
    "sampleB = pd.concat([ordersByUsersB['orders'],pd.Series(0, index=np.arange(visitorsBDaily['visitorsPerDateB'].sum() - len(ordersByUsersB['orders'])), name='orders')],axis=0) "
   ]
  },
  {
   "cell_type": "markdown",
   "metadata": {},
   "source": [
    "Применим критерий Манна-Уитни. Уровень статистической значимости - 5%. Округлим p-value до трех знаков после запятой."
   ]
  },
  {
   "cell_type": "code",
   "execution_count": 33,
   "metadata": {
    "scrolled": true
   },
   "outputs": [
    {
     "name": "stdout",
     "output_type": "stream",
     "text": [
      "p-value:0.017\n",
      "Относительный прирост:0.138\n"
     ]
    }
   ],
   "source": [
    "ordersByUsersA = (\n",
    "    orders[orders['group'] == 'A']\n",
    "    .groupby('visitor_id', as_index=False)\n",
    "    .agg({'transaction_id': pd.Series.nunique})\n",
    ")\n",
    "ordersByUsersA.columns = ['visitor_id', 'orders']\n",
    "\n",
    "ordersByUsersB = (\n",
    "    orders[orders['group'] == 'B']\n",
    "    .groupby('visitor_id', as_index=False)\n",
    "    .agg({'transaction_id': pd.Series.nunique})\n",
    ")\n",
    "ordersByUsersB.columns = ['visitor_id', 'orders']\n",
    "\n",
    "sampleA = pd.concat(\n",
    "    [\n",
    "        ordersByUsersA['orders'],\n",
    "        pd.Series(\n",
    "            0,\n",
    "            index=np.arange(\n",
    "                visitorsADaily['visitorsPerDateA'].sum() - len(ordersByUsersA['orders'])\n",
    "            ),\n",
    "            name='orders',\n",
    "        ),\n",
    "    ],\n",
    "    axis=0,\n",
    ")\n",
    "\n",
    "sampleB = pd.concat(\n",
    "    [\n",
    "        ordersByUsersB['orders'],\n",
    "        pd.Series(\n",
    "            0,\n",
    "            index=np.arange(\n",
    "                visitorsBDaily['visitorsPerDateB'].sum() - len(ordersByUsersB['orders'])\n",
    "            ),\n",
    "            name='orders',\n",
    "        ),\n",
    "    ],\n",
    "    axis=0,\n",
    ")\n",
    "\n",
    "print('p-value:' \"{0:.3f}\".format(stats.mannwhitneyu(sampleA, sampleB)[1]))\n",
    "\n",
    "print('Относительный прирост:' \"{0:.3f}\".format(sampleB.mean() / sampleA.mean() - 1))"
   ]
  },
  {
   "cell_type": "markdown",
   "metadata": {},
   "source": [
    "**Вывод:** По «сырым» видим различия в среднем числе заказов групп A и B. P-value = 0.017 меньше 0.05. Значит, нулевую гипотезу о том, что статистически значимых различий в среднем числе заказов между группами нет, отвергаем. \n",
    "\n",
    "Однако относительный проигрыш группы А равен 13.8%."
   ]
  },
  {
   "cell_type": "markdown",
   "metadata": {},
   "source": [
    "### Cтатистическая значимость различий в среднем чеке\n",
    "\n",
    "Проверим статистическую значимость различий в среднем чеке между сегментами также по \"сырым\" данным. \n",
    "\n",
    "- Н0: различий в среднем чеке между группами нет\n",
    "- Н1: различия в среднем чеке между группами есть\n",
    "\n",
    "Уровень статистической значимости - 5%.\n",
    "\n",
    "Чтобы рассчитать статистическую значимость различий в среднем чеке, передадим критерию mannwhitneyu() данные о выручке с заказов. "
   ]
  },
  {
   "cell_type": "code",
   "execution_count": 34,
   "metadata": {},
   "outputs": [
    {
     "name": "stdout",
     "output_type": "stream",
     "text": [
      "p-value: 0.729\n",
      "Относительный прирост: 0.259\n"
     ]
    }
   ],
   "source": [
    "print('p-value: {0:.3f}'.format(stats.mannwhitneyu(orders[orders['group']=='A']['revenue'], orders[orders['group']=='B']['revenue'])[1]))\n",
    "print('Относительный прирост: {0:.3f}'.format(orders[orders['group']=='B']['revenue'].mean()/orders[orders['group']=='A']['revenue'].mean()-1)) "
   ]
  },
  {
   "cell_type": "markdown",
   "metadata": {},
   "source": [
    "**Вывод:** P-value значительно больше 0.05. Значит, причин отвергать нулевую гипотезу и считать, что в среднем чеке есть различия, нет. При этом средний чек группы А значительно ниже среднего чека группы В."
   ]
  },
  {
   "cell_type": "markdown",
   "metadata": {},
   "source": [
    "### Cтатистическая значимость различий в среднем количестве заказов на посетителя по \"очищенным\" данным\n",
    "\n",
    "Сформулируем гипотезы:\n",
    "\n",
    "- H0: различий в среднем количестве заказов между группами нет.\n",
    "\n",
    "- H1: различия в среднем количестве заказов между группами есть.\n",
    "\n",
    "Узнаем, сколько всего аномальных пользователей."
   ]
  },
  {
   "cell_type": "code",
   "execution_count": 35,
   "metadata": {
    "scrolled": true
   },
   "outputs": [
    {
     "name": "stdout",
     "output_type": "stream",
     "text": [
      "1099     148427295\n",
      "949      887908475\n",
      "744      888512513\n",
      "1103    1164614297\n",
      "1136    1307669133\n",
      "Name: visitor_id, dtype: int64\n",
      "15\n"
     ]
    }
   ],
   "source": [
    "usersWithManyOrders = pd.concat(\n",
    "    [\n",
    "        ordersByUsersA[ordersByUsersA['orders'] > 4]['visitor_id'],\n",
    "        ordersByUsersB[ordersByUsersB['orders'] > 4]['visitor_id'],\n",
    "    ],\n",
    "    axis=0,\n",
    ")\n",
    "usersWithExpensiveOrders = orders[orders['revenue'] > 58233.2]['visitor_id']\n",
    "abnormalUsers = (\n",
    "    pd.concat([usersWithManyOrders, usersWithExpensiveOrders], axis=0)\n",
    "    .drop_duplicates()\n",
    "    .sort_values()\n",
    ")\n",
    "print(abnormalUsers.head(5))\n",
    "print(abnormalUsers.shape[0]) "
   ]
  },
  {
   "cell_type": "markdown",
   "metadata": {},
   "source": [
    "Всего 15 аномальных пользователей.\n",
    "\n",
    "Узнаем, как их действия повлияли на результаты теста. Посчитаем статистическую значимость различий в среднем количестве заказов между группами теста по очищенным данным. Подготовим выборки количества заказов по пользователям по группам теста."
   ]
  },
  {
   "cell_type": "code",
   "execution_count": 36,
   "metadata": {},
   "outputs": [],
   "source": [
    "sampleAFiltered = pd.concat(\n",
    "    [\n",
    "        ordersByUsersA[\n",
    "            np.logical_not(ordersByUsersA['visitor_id'].isin(abnormalUsers))\n",
    "        ]['orders'],\n",
    "        pd.Series(\n",
    "            0,\n",
    "            index=np.arange(\n",
    "                visitorsADaily['visitorsPerDateA'].sum() - len(ordersByUsersA['orders'])\n",
    "            ),\n",
    "            name='orders',\n",
    "        ),\n",
    "    ],\n",
    "    axis=0,\n",
    ")\n",
    "\n",
    "sampleBFiltered = pd.concat(\n",
    "    [\n",
    "        ordersByUsersB[\n",
    "            np.logical_not(ordersByUsersB['visitor_id'].isin(abnormalUsers))\n",
    "        ]['orders'],\n",
    "        pd.Series(\n",
    "            0,\n",
    "            index=np.arange(\n",
    "                visitorsBDaily['visitorsPerDateB'].sum() - len(ordersByUsersB['orders'])\n",
    "            ),\n",
    "            name='orders',\n",
    "        ),\n",
    "    ],\n",
    "    axis=0,\n",
    ") "
   ]
  },
  {
   "cell_type": "markdown",
   "metadata": {},
   "source": [
    "Применим статистический критерий Манна-Уитни к полученным выборкам:"
   ]
  },
  {
   "cell_type": "code",
   "execution_count": 37,
   "metadata": {},
   "outputs": [
    {
     "name": "stdout",
     "output_type": "stream",
     "text": [
      "p-value: 0.014\n",
      "Относительный прирост: 0.153\n"
     ]
    }
   ],
   "source": [
    "print('p-value: {0:.3f}'.format(stats.mannwhitneyu(sampleAFiltered, sampleBFiltered)[1]))\n",
    "print('Относительный прирост: {0:.3f}'.format(sampleBFiltered.mean()/sampleAFiltered.mean()-1)) "
   ]
  },
  {
   "cell_type": "markdown",
   "metadata": {},
   "source": [
    "**Вывод:** Результаты по среднему количеству заказов практически не изменились. Отвергаем нулевую гипотезу."
   ]
  },
  {
   "cell_type": "markdown",
   "metadata": {},
   "source": [
    "### Cтатистическая значимость различий в среднем чеке\n",
    "\n",
    "Посчитаем статистическую значимость различий в среднем чеке заказа между группами по «очищенным» данным. \n",
    "\n",
    "Гипотезы: \n",
    "\n",
    "- Н0: различий в среднем чеке между группами нет\n",
    "- Н1: различия в среднем чеке между группами есть"
   ]
  },
  {
   "cell_type": "code",
   "execution_count": 38,
   "metadata": {},
   "outputs": [
    {
     "name": "stdout",
     "output_type": "stream",
     "text": [
      "p-value: 0.851\n",
      "Относительный прирост: -0.006\n"
     ]
    }
   ],
   "source": [
    "print(\n",
    "    'p-value: {0:.3f}'.format(\n",
    "        stats.mannwhitneyu(\n",
    "            orders[\n",
    "                np.logical_and(\n",
    "                    orders['group'] == 'A',\n",
    "                    np.logical_not(orders['visitor_id'].isin(abnormalUsers)),\n",
    "                )\n",
    "            ]['revenue'],\n",
    "            orders[\n",
    "                np.logical_and(\n",
    "                    orders['group'] == 'B',\n",
    "                    np.logical_not(orders['visitor_id'].isin(abnormalUsers)),\n",
    "                )\n",
    "            ]['revenue'],\n",
    "        )[1]\n",
    "    )\n",
    ")\n",
    "\n",
    "print(\n",
    "    \"Относительный прирост: {0:.3f}\".format(\n",
    "        orders[\n",
    "            np.logical_and(\n",
    "                orders['group'] == 'B',\n",
    "                np.logical_not(orders['visitor_id'].isin(abnormalUsers)),\n",
    "            )\n",
    "        ]['revenue'].mean()\n",
    "        / orders[\n",
    "            np.logical_and(\n",
    "                orders['group'] == 'A',\n",
    "                np.logical_not(orders['visitor_id'].isin(abnormalUsers)),\n",
    "            )\n",
    "        ]['revenue'].mean()\n",
    "        - 1\n",
    "    )\n",
    ") "
   ]
  },
  {
   "cell_type": "markdown",
   "metadata": {},
   "source": [
    "**Вывод:** p-value увеличился, а различие между группами сократилось с 26% до 0.6%. Мы исключили аномалии и получили более \"чистый\" результат. Общий вывод по результатам этой проверки не меняется: Различий в среднем чеке нет."
   ]
  },
  {
   "cell_type": "markdown",
   "metadata": {},
   "source": [
    "### Итоги теста\n",
    "\n",
    "По результатам теста рекомендуем принять решение остановить его и зафиксировать победу группы В. Группы не отличаются по средним чекам, но группа В продемонстрировала стабильно лучший результат по выручке."
   ]
  },
  {
   "cell_type": "markdown",
   "metadata": {},
   "source": [
    "## Общий вывод\n",
    "\n",
    "В ходе исследования мы рассмотрели гипотезы по увеличению выручки с помощью различных фреймворков, провели A/B-тест и проанализировали его. Мы также посмотрели на данные о стоимости заказов, чеков, их количеству и построили соответствующие графики.\n",
    "\n",
    "**Часть I** \n",
    "\n",
    "Мы рассмотрели девять гипотез по увеличению выручки интернет-магазина с указанными параметрами Reach, Impact, Confidence, Effort. Проанализировали их с помощью двух фреймворков: ICE и RICE, - и выделили топ-5 в порядке приоритета. \n",
    "\n",
    "Приоритизация гипотез меняется в зависимости от фреймворка. Действительно, RICE учитывает параметр reach - количество пользователей, которых затронет изменение, это влияет на приоритет.\n",
    "\n",
    "Топ-5:\n",
    "- Гипотеза 8 (Запустить акцию, дающую скидку на товар в день рождения), которая оказалась на первом месте по ICE, по RICE заняла пятую строчку, потому что у нее низкий показатель охвата - 1.\n",
    "- Гипотеза 7 (Добавить форму подписки на все основные страницы, чтобы собрать базу клиентов для email-рассылок) по RICE оказалась на первом месте. Действительно, видим, что ее показатель охвата 10, максимально возможный. По ICE она была на занимает третью строчку.\n",
    "- Гипотеза 0 (Добавить два новых канала привлечения трафика, что позволит привлекать на 30% больше пользователей) по ICE заняла второе место, а по RICE - третье. \n",
    "- Позиция гипотезы 6(Показать на главной странице баннеры с актуальными акциями и распродажами, чтобы увеличить конверсию) не изменилась (четвертое место). \n",
    "- Гипотеза 2 (Добавить блоки рекомендаций товаров на сайт интернет-магазина, чтобы повысить конверсию и средний чек заказа) заняла пятую строчку по ICE и вторую - по RICE.\n",
    "\n",
    "\n",
    "**Часть II**\n",
    "\n",
    "Провели первое знакомство с данными, не заметили существенных проблем. Мы подготовили данные для анализа: привели заголовки столбцов к общепринятому формату. Также исправили тип данных в колонках с датами.\n",
    "\n",
    "\n",
    "*Кумулятивная выручка*: в начале теста обе группы шли ровно, однако уже на четвертый день группа B стала демонстрировать лучшую динамику роста. Заметили, что в этой группе в одной из точек происходит резкий рост. Предположили наличие крупных заказов в выборке. Затем предположение подтвердилось.\n",
    "\n",
    "*Средний чек*: увидели снижение средних чеков в группе А в начале теста, за ним последовал постепенный рост и всплеск 13 августа, за которым показатель стабилизировался.\n",
    "Что касается группы В, в начале теста наблюдался резкий рост, затем динамика была неоднородной.\n",
    "\n",
    "В целом результаты группы В лучше группы А, при этом видим тенденцию к их ухудшению. \n",
    "\n",
    "*Конверсии* в обеих группах не показывают плавной динамики. В начале теста обе группы резко скакнули вверх, затем группа В вырвалась вперед, а А - значительно просела.\n",
    "\n",
    "В начале теста группа B вырвалась вперед, затем сильно просела относительно группы A, затем вновь вырвалась вперёд. Можно сказать, что относительная конверсия группы В стабилизировалась в позитивной зоне.\n",
    "\n",
    "\n",
    "*Аномалии*: \n",
    "\n",
    "- Доля пользователей, совершивших больше двух заказов, не превышает 5%, а больше 4 заказов - не превышает 1%. Отсеяли аномалии по границе в 4 заказа. \n",
    "\n",
    "- Не более 5% заказов дороже 28 000 и не более 1% дороже 58 233. Аномалии - все, что за 99 перцентилем.\n",
    "\n",
    "\n",
    "*Гипотезы*:\n",
    "\n",
    "По результатам проверки гипотез как по \"сырым\", так и по \"очищенным\" данным, пришли к следующим выводам: \n",
    "- Обнаружили статистически значимое различие в среднем числе заказов между группами.\n",
    "- Нет различий в среднем чеке между группами. При этом средний чек группы А ниже среднего чека группы В.\n",
    "\n",
    "**Вывод**: По результатам теста рекомендуем принять решение остановить его и зафиксировать победу группы В. Группы не отличаются по средним чекам, но группа В продемонстрировала стабильно лучший результат по выручке."
   ]
  }
 ],
 "metadata": {
  "ExecuteTimeLog": [
   {
    "duration": 837,
    "start_time": "2023-01-12T10:48:54.572Z"
   },
   {
    "duration": 205,
    "start_time": "2023-01-12T10:50:48.677Z"
   },
   {
    "duration": 12,
    "start_time": "2023-01-12T10:53:17.191Z"
   },
   {
    "duration": 73,
    "start_time": "2023-01-12T10:54:48.076Z"
   },
   {
    "duration": 3,
    "start_time": "2023-01-12T10:54:52.322Z"
   },
   {
    "duration": 2,
    "start_time": "2023-01-12T10:54:54.922Z"
   },
   {
    "duration": 8,
    "start_time": "2023-01-12T10:55:02.277Z"
   },
   {
    "duration": 8,
    "start_time": "2023-01-12T10:55:14.477Z"
   },
   {
    "duration": 8,
    "start_time": "2023-01-12T10:55:19.308Z"
   },
   {
    "duration": 10,
    "start_time": "2023-01-12T10:55:31.159Z"
   },
   {
    "duration": 9,
    "start_time": "2023-01-12T10:55:35.644Z"
   },
   {
    "duration": 11,
    "start_time": "2023-01-12T10:55:52.212Z"
   },
   {
    "duration": 10,
    "start_time": "2023-01-12T10:58:25.910Z"
   },
   {
    "duration": 10,
    "start_time": "2023-01-12T10:58:39.479Z"
   },
   {
    "duration": 7,
    "start_time": "2023-01-12T10:59:06.820Z"
   },
   {
    "duration": 11,
    "start_time": "2023-01-12T10:59:12.887Z"
   },
   {
    "duration": 7,
    "start_time": "2023-01-12T11:01:30.313Z"
   },
   {
    "duration": 8,
    "start_time": "2023-01-12T11:01:36.500Z"
   },
   {
    "duration": 8,
    "start_time": "2023-01-12T11:01:41.444Z"
   },
   {
    "duration": 8,
    "start_time": "2023-01-12T11:01:51.031Z"
   },
   {
    "duration": 8,
    "start_time": "2023-01-12T11:01:59.649Z"
   },
   {
    "duration": 5,
    "start_time": "2023-01-12T11:02:22.754Z"
   },
   {
    "duration": 6,
    "start_time": "2023-01-12T11:18:59.324Z"
   },
   {
    "duration": 843,
    "start_time": "2023-01-12T11:19:15.243Z"
   },
   {
    "duration": 297,
    "start_time": "2023-01-12T11:19:16.088Z"
   },
   {
    "duration": 12,
    "start_time": "2023-01-12T11:19:16.387Z"
   },
   {
    "duration": 11,
    "start_time": "2023-01-12T11:19:16.401Z"
   },
   {
    "duration": 11,
    "start_time": "2023-01-12T11:19:16.414Z"
   },
   {
    "duration": 13,
    "start_time": "2023-01-12T11:19:16.426Z"
   },
   {
    "duration": 8,
    "start_time": "2023-01-12T11:19:16.441Z"
   },
   {
    "duration": 25,
    "start_time": "2023-01-12T11:19:16.451Z"
   },
   {
    "duration": 4,
    "start_time": "2023-01-12T11:19:16.478Z"
   },
   {
    "duration": 26,
    "start_time": "2023-01-12T11:19:16.484Z"
   },
   {
    "duration": 13,
    "start_time": "2023-01-12T11:19:16.511Z"
   },
   {
    "duration": 11,
    "start_time": "2023-01-12T11:19:16.525Z"
   },
   {
    "duration": 16,
    "start_time": "2023-01-12T11:19:16.537Z"
   },
   {
    "duration": 77,
    "start_time": "2023-01-12T11:22:46.281Z"
   },
   {
    "duration": 4,
    "start_time": "2023-01-12T11:24:00.991Z"
   },
   {
    "duration": 11,
    "start_time": "2023-01-12T11:24:04.029Z"
   },
   {
    "duration": 8,
    "start_time": "2023-01-12T11:24:12.704Z"
   },
   {
    "duration": 10,
    "start_time": "2023-01-12T11:24:40.710Z"
   },
   {
    "duration": 7,
    "start_time": "2023-01-12T11:24:47.038Z"
   },
   {
    "duration": 9,
    "start_time": "2023-01-12T11:26:52.102Z"
   },
   {
    "duration": 8,
    "start_time": "2023-01-12T11:26:56.032Z"
   },
   {
    "duration": 108,
    "start_time": "2023-01-12T11:27:32.026Z"
   },
   {
    "duration": 9,
    "start_time": "2023-01-12T11:27:47.059Z"
   },
   {
    "duration": 10,
    "start_time": "2023-01-12T11:28:32.289Z"
   },
   {
    "duration": 11,
    "start_time": "2023-01-12T11:28:52.184Z"
   },
   {
    "duration": 13,
    "start_time": "2023-01-12T11:29:00.309Z"
   },
   {
    "duration": 10,
    "start_time": "2023-01-12T11:29:07.264Z"
   },
   {
    "duration": 10,
    "start_time": "2023-01-12T11:29:58.960Z"
   },
   {
    "duration": 555,
    "start_time": "2023-01-12T11:41:21.734Z"
   },
   {
    "duration": 72,
    "start_time": "2023-01-12T11:41:22.291Z"
   },
   {
    "duration": 10,
    "start_time": "2023-01-12T11:41:22.365Z"
   },
   {
    "duration": 15,
    "start_time": "2023-01-12T11:41:22.377Z"
   },
   {
    "duration": 16,
    "start_time": "2023-01-12T11:41:22.393Z"
   },
   {
    "duration": 17,
    "start_time": "2023-01-12T11:41:22.410Z"
   },
   {
    "duration": 13,
    "start_time": "2023-01-12T11:41:22.428Z"
   },
   {
    "duration": 15,
    "start_time": "2023-01-12T11:41:22.442Z"
   },
   {
    "duration": 6,
    "start_time": "2023-01-12T11:41:22.459Z"
   },
   {
    "duration": 12,
    "start_time": "2023-01-12T11:41:22.467Z"
   },
   {
    "duration": 11,
    "start_time": "2023-01-12T11:41:22.481Z"
   },
   {
    "duration": 10,
    "start_time": "2023-01-12T11:41:22.493Z"
   },
   {
    "duration": 10,
    "start_time": "2023-01-12T11:41:48.574Z"
   },
   {
    "duration": 10,
    "start_time": "2023-01-12T11:41:53.245Z"
   },
   {
    "duration": 9,
    "start_time": "2023-01-12T11:41:56.760Z"
   },
   {
    "duration": 10,
    "start_time": "2023-01-12T11:42:00.734Z"
   },
   {
    "duration": 60,
    "start_time": "2023-01-12T14:27:00.498Z"
   },
   {
    "duration": 765,
    "start_time": "2023-01-12T14:28:25.584Z"
   },
   {
    "duration": 233,
    "start_time": "2023-01-12T14:28:26.351Z"
   },
   {
    "duration": 12,
    "start_time": "2023-01-12T14:28:26.586Z"
   },
   {
    "duration": 10,
    "start_time": "2023-01-12T14:28:26.600Z"
   },
   {
    "duration": 9,
    "start_time": "2023-01-12T14:28:26.611Z"
   },
   {
    "duration": 11,
    "start_time": "2023-01-12T14:28:26.621Z"
   },
   {
    "duration": 7,
    "start_time": "2023-01-12T14:28:26.633Z"
   },
   {
    "duration": 11,
    "start_time": "2023-01-12T14:28:26.641Z"
   },
   {
    "duration": 6,
    "start_time": "2023-01-12T14:28:26.653Z"
   },
   {
    "duration": 6,
    "start_time": "2023-01-12T14:28:26.661Z"
   },
   {
    "duration": 36,
    "start_time": "2023-01-12T14:28:26.669Z"
   },
   {
    "duration": 9,
    "start_time": "2023-01-12T14:28:26.707Z"
   },
   {
    "duration": 179,
    "start_time": "2023-01-12T14:28:26.718Z"
   },
   {
    "duration": 103,
    "start_time": "2023-01-12T14:31:48.581Z"
   },
   {
    "duration": 93,
    "start_time": "2023-01-12T14:32:37.037Z"
   },
   {
    "duration": 4,
    "start_time": "2023-01-12T14:33:15.330Z"
   },
   {
    "duration": 203,
    "start_time": "2023-01-12T14:33:19.994Z"
   },
   {
    "duration": 8,
    "start_time": "2023-01-12T14:38:00.675Z"
   },
   {
    "duration": 26,
    "start_time": "2023-01-12T14:45:27.222Z"
   },
   {
    "duration": 9,
    "start_time": "2023-01-12T14:45:30.393Z"
   },
   {
    "duration": 269,
    "start_time": "2023-01-12T14:46:32.818Z"
   },
   {
    "duration": 237,
    "start_time": "2023-01-12T14:48:21.103Z"
   },
   {
    "duration": 143,
    "start_time": "2023-01-12T14:49:57.480Z"
   },
   {
    "duration": 229,
    "start_time": "2023-01-12T14:50:11.922Z"
   },
   {
    "duration": 166,
    "start_time": "2023-01-12T14:50:19.553Z"
   },
   {
    "duration": 43,
    "start_time": "2023-01-12T14:51:20.247Z"
   },
   {
    "duration": 216,
    "start_time": "2023-01-12T14:51:25.171Z"
   },
   {
    "duration": 184,
    "start_time": "2023-01-12T14:51:37.656Z"
   },
   {
    "duration": 187,
    "start_time": "2023-01-12T14:51:42.272Z"
   },
   {
    "duration": 176,
    "start_time": "2023-01-12T14:52:12.578Z"
   },
   {
    "duration": 172,
    "start_time": "2023-01-12T14:52:25.965Z"
   },
   {
    "duration": 161,
    "start_time": "2023-01-12T14:52:41.097Z"
   },
   {
    "duration": 172,
    "start_time": "2023-01-12T14:52:48.282Z"
   },
   {
    "duration": 13,
    "start_time": "2023-01-12T14:53:27.395Z"
   },
   {
    "duration": 14,
    "start_time": "2023-01-12T14:54:12.274Z"
   },
   {
    "duration": 217,
    "start_time": "2023-01-12T14:54:36.437Z"
   },
   {
    "duration": 170,
    "start_time": "2023-01-12T14:55:06.477Z"
   },
   {
    "duration": 187,
    "start_time": "2023-01-12T14:56:08.612Z"
   },
   {
    "duration": 178,
    "start_time": "2023-01-12T14:56:14.330Z"
   },
   {
    "duration": 167,
    "start_time": "2023-01-12T14:59:58.283Z"
   },
   {
    "duration": 193,
    "start_time": "2023-01-12T15:00:49.036Z"
   },
   {
    "duration": 171,
    "start_time": "2023-01-12T15:03:11.654Z"
   },
   {
    "duration": 181,
    "start_time": "2023-01-12T15:05:48.184Z"
   },
   {
    "duration": 161,
    "start_time": "2023-01-12T15:06:26.895Z"
   },
   {
    "duration": 594,
    "start_time": "2023-01-12T15:07:52.494Z"
   },
   {
    "duration": 81,
    "start_time": "2023-01-12T15:07:53.090Z"
   },
   {
    "duration": 10,
    "start_time": "2023-01-12T15:07:53.172Z"
   },
   {
    "duration": 11,
    "start_time": "2023-01-12T15:07:53.183Z"
   },
   {
    "duration": 11,
    "start_time": "2023-01-12T15:07:53.196Z"
   },
   {
    "duration": 25,
    "start_time": "2023-01-12T15:07:53.209Z"
   },
   {
    "duration": 24,
    "start_time": "2023-01-12T15:07:53.235Z"
   },
   {
    "duration": 13,
    "start_time": "2023-01-12T15:07:53.260Z"
   },
   {
    "duration": 4,
    "start_time": "2023-01-12T15:07:53.274Z"
   },
   {
    "duration": 11,
    "start_time": "2023-01-12T15:07:53.279Z"
   },
   {
    "duration": 17,
    "start_time": "2023-01-12T15:07:53.292Z"
   },
   {
    "duration": 15,
    "start_time": "2023-01-12T15:07:53.310Z"
   },
   {
    "duration": 221,
    "start_time": "2023-01-12T15:07:53.326Z"
   },
   {
    "duration": 265,
    "start_time": "2023-01-12T15:07:53.550Z"
   },
   {
    "duration": 275,
    "start_time": "2023-01-12T15:07:53.817Z"
   },
   {
    "duration": 171,
    "start_time": "2023-01-12T15:07:54.093Z"
   },
   {
    "duration": 178,
    "start_time": "2023-01-12T15:08:23.681Z"
   },
   {
    "duration": 235,
    "start_time": "2023-01-12T15:08:28.499Z"
   },
   {
    "duration": 273,
    "start_time": "2023-01-12T15:13:45.712Z"
   },
   {
    "duration": 259,
    "start_time": "2023-01-12T15:13:57.216Z"
   },
   {
    "duration": 303,
    "start_time": "2023-01-12T15:14:09.887Z"
   },
   {
    "duration": 252,
    "start_time": "2023-01-12T15:15:24.036Z"
   },
   {
    "duration": 301,
    "start_time": "2023-01-12T15:15:33.987Z"
   },
   {
    "duration": 316,
    "start_time": "2023-01-12T15:15:40.987Z"
   },
   {
    "duration": 253,
    "start_time": "2023-01-12T15:15:48.644Z"
   },
   {
    "duration": 14,
    "start_time": "2023-01-12T17:15:20.524Z"
   },
   {
    "duration": 42,
    "start_time": "2023-01-12T17:15:32.039Z"
   },
   {
    "duration": 7,
    "start_time": "2023-01-12T17:18:09.825Z"
   },
   {
    "duration": 802,
    "start_time": "2023-01-12T17:18:58.339Z"
   },
   {
    "duration": 203,
    "start_time": "2023-01-12T17:18:59.143Z"
   },
   {
    "duration": 16,
    "start_time": "2023-01-12T17:18:59.348Z"
   },
   {
    "duration": 15,
    "start_time": "2023-01-12T17:18:59.366Z"
   },
   {
    "duration": 15,
    "start_time": "2023-01-12T17:18:59.383Z"
   },
   {
    "duration": 22,
    "start_time": "2023-01-12T17:18:59.400Z"
   },
   {
    "duration": 20,
    "start_time": "2023-01-12T17:18:59.424Z"
   },
   {
    "duration": 17,
    "start_time": "2023-01-12T17:18:59.446Z"
   },
   {
    "duration": 14,
    "start_time": "2023-01-12T17:18:59.465Z"
   },
   {
    "duration": 8,
    "start_time": "2023-01-12T17:18:59.481Z"
   },
   {
    "duration": 16,
    "start_time": "2023-01-12T17:18:59.491Z"
   },
   {
    "duration": 15,
    "start_time": "2023-01-12T17:18:59.509Z"
   },
   {
    "duration": 220,
    "start_time": "2023-01-12T17:18:59.526Z"
   },
   {
    "duration": 316,
    "start_time": "2023-01-12T17:18:59.749Z"
   },
   {
    "duration": 275,
    "start_time": "2023-01-12T17:19:00.067Z"
   },
   {
    "duration": 247,
    "start_time": "2023-01-12T17:19:00.344Z"
   },
   {
    "duration": 409,
    "start_time": "2023-01-12T17:19:00.593Z"
   },
   {
    "duration": 262,
    "start_time": "2023-01-12T17:19:01.003Z"
   },
   {
    "duration": 246,
    "start_time": "2023-01-12T17:19:07.969Z"
   },
   {
    "duration": 183,
    "start_time": "2023-01-12T17:19:18.696Z"
   },
   {
    "duration": 308,
    "start_time": "2023-01-12T17:19:28.752Z"
   },
   {
    "duration": 219,
    "start_time": "2023-01-12T17:19:36.988Z"
   },
   {
    "duration": 377,
    "start_time": "2023-01-12T17:24:48.497Z"
   },
   {
    "duration": 294,
    "start_time": "2023-01-12T17:24:53.950Z"
   },
   {
    "duration": 327,
    "start_time": "2023-01-12T17:25:06.844Z"
   },
   {
    "duration": 50,
    "start_time": "2023-01-13T08:52:39.854Z"
   },
   {
    "duration": 808,
    "start_time": "2023-01-13T08:52:49.671Z"
   },
   {
    "duration": 220,
    "start_time": "2023-01-13T08:52:50.482Z"
   },
   {
    "duration": 13,
    "start_time": "2023-01-13T08:52:50.704Z"
   },
   {
    "duration": 12,
    "start_time": "2023-01-13T08:52:50.719Z"
   },
   {
    "duration": 9,
    "start_time": "2023-01-13T08:52:50.734Z"
   },
   {
    "duration": 15,
    "start_time": "2023-01-13T08:52:50.744Z"
   },
   {
    "duration": 11,
    "start_time": "2023-01-13T08:52:50.761Z"
   },
   {
    "duration": 12,
    "start_time": "2023-01-13T08:52:50.773Z"
   },
   {
    "duration": 15,
    "start_time": "2023-01-13T08:52:50.787Z"
   },
   {
    "duration": 18,
    "start_time": "2023-01-13T08:52:50.804Z"
   },
   {
    "duration": 12,
    "start_time": "2023-01-13T08:52:50.837Z"
   },
   {
    "duration": 11,
    "start_time": "2023-01-13T08:52:50.851Z"
   },
   {
    "duration": 14,
    "start_time": "2023-01-13T08:52:50.863Z"
   },
   {
    "duration": 240,
    "start_time": "2023-01-13T08:52:50.881Z"
   },
   {
    "duration": 287,
    "start_time": "2023-01-13T08:52:51.123Z"
   },
   {
    "duration": 306,
    "start_time": "2023-01-13T08:52:51.412Z"
   },
   {
    "duration": 219,
    "start_time": "2023-01-13T08:52:51.720Z"
   },
   {
    "duration": 355,
    "start_time": "2023-01-13T08:52:51.942Z"
   },
   {
    "duration": 262,
    "start_time": "2023-01-13T08:52:52.299Z"
   },
   {
    "duration": 300,
    "start_time": "2023-01-13T08:52:52.563Z"
   },
   {
    "duration": 74,
    "start_time": "2023-01-13T08:56:32.813Z"
   },
   {
    "duration": 10,
    "start_time": "2023-01-13T08:56:47.830Z"
   },
   {
    "duration": 8,
    "start_time": "2023-01-13T08:58:40.383Z"
   },
   {
    "duration": 614,
    "start_time": "2023-01-13T08:59:51.284Z"
   },
   {
    "duration": 75,
    "start_time": "2023-01-13T08:59:51.900Z"
   },
   {
    "duration": 11,
    "start_time": "2023-01-13T08:59:51.977Z"
   },
   {
    "duration": 12,
    "start_time": "2023-01-13T08:59:51.990Z"
   },
   {
    "duration": 7,
    "start_time": "2023-01-13T08:59:52.003Z"
   },
   {
    "duration": 14,
    "start_time": "2023-01-13T08:59:52.012Z"
   },
   {
    "duration": 12,
    "start_time": "2023-01-13T08:59:52.028Z"
   },
   {
    "duration": 23,
    "start_time": "2023-01-13T08:59:52.042Z"
   },
   {
    "duration": 17,
    "start_time": "2023-01-13T08:59:52.067Z"
   },
   {
    "duration": 13,
    "start_time": "2023-01-13T08:59:52.087Z"
   },
   {
    "duration": 16,
    "start_time": "2023-01-13T08:59:52.101Z"
   },
   {
    "duration": 10,
    "start_time": "2023-01-13T08:59:52.119Z"
   },
   {
    "duration": 19,
    "start_time": "2023-01-13T08:59:52.130Z"
   },
   {
    "duration": 74,
    "start_time": "2023-01-13T08:59:52.150Z"
   },
   {
    "duration": 0,
    "start_time": "2023-01-13T08:59:52.226Z"
   },
   {
    "duration": 0,
    "start_time": "2023-01-13T08:59:52.227Z"
   },
   {
    "duration": 0,
    "start_time": "2023-01-13T08:59:52.237Z"
   },
   {
    "duration": 0,
    "start_time": "2023-01-13T08:59:52.238Z"
   },
   {
    "duration": 0,
    "start_time": "2023-01-13T08:59:52.240Z"
   },
   {
    "duration": 0,
    "start_time": "2023-01-13T08:59:52.241Z"
   },
   {
    "duration": 0,
    "start_time": "2023-01-13T08:59:52.243Z"
   },
   {
    "duration": 1215,
    "start_time": "2023-01-13T09:00:08.825Z"
   },
   {
    "duration": 84,
    "start_time": "2023-01-13T09:00:21.166Z"
   },
   {
    "duration": 87,
    "start_time": "2023-01-13T09:00:47.232Z"
   },
   {
    "duration": 1172,
    "start_time": "2023-01-13T09:01:15.978Z"
   },
   {
    "duration": 81,
    "start_time": "2023-01-13T09:01:38.517Z"
   },
   {
    "duration": 84,
    "start_time": "2023-01-13T09:02:37.774Z"
   },
   {
    "duration": 89,
    "start_time": "2023-01-13T09:02:52.462Z"
   },
   {
    "duration": 8,
    "start_time": "2023-01-13T09:05:14.657Z"
   },
   {
    "duration": 5,
    "start_time": "2023-01-13T09:05:27.198Z"
   },
   {
    "duration": 5,
    "start_time": "2023-01-13T09:05:34.925Z"
   },
   {
    "duration": 4,
    "start_time": "2023-01-13T09:05:45.643Z"
   },
   {
    "duration": 8,
    "start_time": "2023-01-13T09:07:54.831Z"
   },
   {
    "duration": 4,
    "start_time": "2023-01-13T09:07:59.987Z"
   },
   {
    "duration": 668,
    "start_time": "2023-01-13T09:11:45.354Z"
   },
   {
    "duration": 85,
    "start_time": "2023-01-13T09:11:46.024Z"
   },
   {
    "duration": 12,
    "start_time": "2023-01-13T09:11:46.111Z"
   },
   {
    "duration": 13,
    "start_time": "2023-01-13T09:11:46.125Z"
   },
   {
    "duration": 7,
    "start_time": "2023-01-13T09:11:46.140Z"
   },
   {
    "duration": 17,
    "start_time": "2023-01-13T09:11:46.148Z"
   },
   {
    "duration": 11,
    "start_time": "2023-01-13T09:11:46.166Z"
   },
   {
    "duration": 14,
    "start_time": "2023-01-13T09:11:46.178Z"
   },
   {
    "duration": 14,
    "start_time": "2023-01-13T09:11:46.194Z"
   },
   {
    "duration": 28,
    "start_time": "2023-01-13T09:11:46.210Z"
   },
   {
    "duration": 14,
    "start_time": "2023-01-13T09:11:46.240Z"
   },
   {
    "duration": 6,
    "start_time": "2023-01-13T09:11:46.256Z"
   },
   {
    "duration": 10,
    "start_time": "2023-01-13T09:11:46.264Z"
   },
   {
    "duration": 219,
    "start_time": "2023-01-13T09:11:46.275Z"
   },
   {
    "duration": 286,
    "start_time": "2023-01-13T09:11:46.495Z"
   },
   {
    "duration": 294,
    "start_time": "2023-01-13T09:11:46.783Z"
   },
   {
    "duration": 214,
    "start_time": "2023-01-13T09:11:47.079Z"
   },
   {
    "duration": 296,
    "start_time": "2023-01-13T09:11:47.294Z"
   },
   {
    "duration": 279,
    "start_time": "2023-01-13T09:11:47.592Z"
   },
   {
    "duration": 294,
    "start_time": "2023-01-13T09:11:47.873Z"
   },
   {
    "duration": 702,
    "start_time": "2023-01-13T09:13:18.388Z"
   },
   {
    "duration": 77,
    "start_time": "2023-01-13T09:13:19.093Z"
   },
   {
    "duration": 13,
    "start_time": "2023-01-13T09:13:19.172Z"
   },
   {
    "duration": 19,
    "start_time": "2023-01-13T09:13:19.187Z"
   },
   {
    "duration": 9,
    "start_time": "2023-01-13T09:13:19.209Z"
   },
   {
    "duration": 17,
    "start_time": "2023-01-13T09:13:19.220Z"
   },
   {
    "duration": 13,
    "start_time": "2023-01-13T09:13:19.238Z"
   },
   {
    "duration": 10,
    "start_time": "2023-01-13T09:13:19.253Z"
   },
   {
    "duration": 15,
    "start_time": "2023-01-13T09:13:19.265Z"
   },
   {
    "duration": 12,
    "start_time": "2023-01-13T09:13:19.281Z"
   },
   {
    "duration": 14,
    "start_time": "2023-01-13T09:13:19.294Z"
   },
   {
    "duration": 28,
    "start_time": "2023-01-13T09:13:19.310Z"
   },
   {
    "duration": 11,
    "start_time": "2023-01-13T09:13:19.340Z"
   },
   {
    "duration": 292,
    "start_time": "2023-01-13T09:13:19.354Z"
   },
   {
    "duration": 299,
    "start_time": "2023-01-13T09:13:19.647Z"
   },
   {
    "duration": 204,
    "start_time": "2023-01-13T09:13:19.948Z"
   },
   {
    "duration": 307,
    "start_time": "2023-01-13T09:13:20.154Z"
   },
   {
    "duration": 274,
    "start_time": "2023-01-13T09:13:20.463Z"
   },
   {
    "duration": 318,
    "start_time": "2023-01-13T09:13:20.738Z"
   },
   {
    "duration": 279,
    "start_time": "2023-01-13T09:16:17.505Z"
   },
   {
    "duration": 281,
    "start_time": "2023-01-13T09:16:28.070Z"
   },
   {
    "duration": 82,
    "start_time": "2023-01-13T09:23:32.519Z"
   },
   {
    "duration": 8,
    "start_time": "2023-01-13T09:24:06.261Z"
   },
   {
    "duration": 9,
    "start_time": "2023-01-13T09:25:01.507Z"
   },
   {
    "duration": 8,
    "start_time": "2023-01-13T09:25:34.158Z"
   },
   {
    "duration": 11,
    "start_time": "2023-01-13T09:26:04.526Z"
   },
   {
    "duration": 16,
    "start_time": "2023-01-13T09:26:15.939Z"
   },
   {
    "duration": 12,
    "start_time": "2023-01-13T09:26:39.750Z"
   },
   {
    "duration": 138,
    "start_time": "2023-01-13T09:28:44.201Z"
   },
   {
    "duration": 118,
    "start_time": "2023-01-13T09:28:52.201Z"
   },
   {
    "duration": 6,
    "start_time": "2023-01-13T09:32:51.306Z"
   },
   {
    "duration": 150,
    "start_time": "2023-01-13T09:37:14.912Z"
   },
   {
    "duration": 155,
    "start_time": "2023-01-13T09:37:18.323Z"
   },
   {
    "duration": 182,
    "start_time": "2023-01-13T09:37:51.998Z"
   },
   {
    "duration": 160,
    "start_time": "2023-01-13T09:38:00.653Z"
   },
   {
    "duration": 143,
    "start_time": "2023-01-13T09:38:23.583Z"
   },
   {
    "duration": 5,
    "start_time": "2023-01-13T09:41:54.598Z"
   },
   {
    "duration": 5,
    "start_time": "2023-01-13T09:43:09.395Z"
   },
   {
    "duration": 5,
    "start_time": "2023-01-13T09:43:14.978Z"
   },
   {
    "duration": 158,
    "start_time": "2023-01-13T09:45:17.703Z"
   },
   {
    "duration": 209,
    "start_time": "2023-01-13T09:45:24.991Z"
   },
   {
    "duration": 143,
    "start_time": "2023-01-13T09:45:30.554Z"
   },
   {
    "duration": 6,
    "start_time": "2023-01-13T09:46:49.073Z"
   },
   {
    "duration": 15,
    "start_time": "2023-01-13T10:17:44.002Z"
   },
   {
    "duration": 137,
    "start_time": "2023-01-13T10:18:20.646Z"
   },
   {
    "duration": 142,
    "start_time": "2023-01-13T10:19:12.704Z"
   },
   {
    "duration": 10,
    "start_time": "2023-01-13T10:19:13.529Z"
   },
   {
    "duration": 1132,
    "start_time": "2023-01-13T10:19:31.345Z"
   },
   {
    "duration": 108,
    "start_time": "2023-01-13T10:20:38.264Z"
   },
   {
    "duration": 164,
    "start_time": "2023-01-13T10:21:42.763Z"
   },
   {
    "duration": 255,
    "start_time": "2023-01-13T10:22:22.011Z"
   },
   {
    "duration": 236,
    "start_time": "2023-01-13T10:22:35.153Z"
   },
   {
    "duration": 158,
    "start_time": "2023-01-13T10:23:04.926Z"
   },
   {
    "duration": 7,
    "start_time": "2023-01-13T10:23:45.182Z"
   },
   {
    "duration": 212,
    "start_time": "2023-01-13T10:24:48.959Z"
   },
   {
    "duration": 7,
    "start_time": "2023-01-13T10:24:50.322Z"
   },
   {
    "duration": 15,
    "start_time": "2023-01-13T10:32:31.755Z"
   },
   {
    "duration": 168,
    "start_time": "2023-01-13T10:33:11.912Z"
   },
   {
    "duration": 461,
    "start_time": "2023-01-13T10:33:37.893Z"
   },
   {
    "duration": 166,
    "start_time": "2023-01-13T10:33:41.324Z"
   },
   {
    "duration": 11,
    "start_time": "2023-01-13T10:40:41.780Z"
   },
   {
    "duration": 1341,
    "start_time": "2023-01-13T10:48:13.586Z"
   },
   {
    "duration": 1215,
    "start_time": "2023-01-13T10:48:51.298Z"
   },
   {
    "duration": 84,
    "start_time": "2023-01-13T10:48:52.516Z"
   },
   {
    "duration": 14,
    "start_time": "2023-01-13T10:48:52.602Z"
   },
   {
    "duration": 12,
    "start_time": "2023-01-13T10:48:52.618Z"
   },
   {
    "duration": 5,
    "start_time": "2023-01-13T10:48:52.633Z"
   },
   {
    "duration": 44,
    "start_time": "2023-01-13T10:48:52.640Z"
   },
   {
    "duration": 12,
    "start_time": "2023-01-13T10:48:52.686Z"
   },
   {
    "duration": 30,
    "start_time": "2023-01-13T10:48:52.700Z"
   },
   {
    "duration": 31,
    "start_time": "2023-01-13T10:48:52.731Z"
   },
   {
    "duration": 23,
    "start_time": "2023-01-13T10:48:52.764Z"
   },
   {
    "duration": 32,
    "start_time": "2023-01-13T10:48:52.789Z"
   },
   {
    "duration": 29,
    "start_time": "2023-01-13T10:48:52.823Z"
   },
   {
    "duration": 26,
    "start_time": "2023-01-13T10:48:52.854Z"
   },
   {
    "duration": 348,
    "start_time": "2023-01-13T10:48:52.883Z"
   },
   {
    "duration": 350,
    "start_time": "2023-01-13T10:48:53.239Z"
   },
   {
    "duration": 237,
    "start_time": "2023-01-13T10:48:53.591Z"
   },
   {
    "duration": 359,
    "start_time": "2023-01-13T10:48:53.840Z"
   },
   {
    "duration": 251,
    "start_time": "2023-01-13T10:48:54.201Z"
   },
   {
    "duration": 343,
    "start_time": "2023-01-13T10:48:54.455Z"
   },
   {
    "duration": 13,
    "start_time": "2023-01-13T10:48:54.799Z"
   },
   {
    "duration": 144,
    "start_time": "2023-01-13T10:48:54.814Z"
   },
   {
    "duration": 6,
    "start_time": "2023-01-13T10:48:54.961Z"
   },
   {
    "duration": 194,
    "start_time": "2023-01-13T10:48:54.970Z"
   },
   {
    "duration": 5,
    "start_time": "2023-01-13T10:48:55.166Z"
   },
   {
    "duration": 24,
    "start_time": "2023-01-13T10:48:55.173Z"
   },
   {
    "duration": 275,
    "start_time": "2023-01-13T10:48:55.200Z"
   },
   {
    "duration": 176,
    "start_time": "2023-01-13T10:48:55.477Z"
   },
   {
    "duration": 7,
    "start_time": "2023-01-13T10:48:55.655Z"
   },
   {
    "duration": 229,
    "start_time": "2023-01-13T10:48:55.664Z"
   },
   {
    "duration": 12,
    "start_time": "2023-01-13T10:48:55.895Z"
   },
   {
    "duration": 1422,
    "start_time": "2023-01-13T10:48:55.909Z"
   },
   {
    "duration": 1531,
    "start_time": "2023-01-13T10:49:50.387Z"
   },
   {
    "duration": 10,
    "start_time": "2023-01-13T10:50:06.161Z"
   },
   {
    "duration": 1502,
    "start_time": "2023-01-13T10:50:57.166Z"
   },
   {
    "duration": 8,
    "start_time": "2023-01-13T10:51:05.610Z"
   },
   {
    "duration": 222,
    "start_time": "2023-01-13T10:51:17.565Z"
   },
   {
    "duration": 12,
    "start_time": "2023-01-13T10:51:24.569Z"
   },
   {
    "duration": 14,
    "start_time": "2023-01-13T10:54:09.164Z"
   },
   {
    "duration": 1196,
    "start_time": "2023-01-13T10:54:12.935Z"
   },
   {
    "duration": 0,
    "start_time": "2023-01-13T10:54:14.133Z"
   },
   {
    "duration": 11,
    "start_time": "2023-01-13T10:54:29.556Z"
   },
   {
    "duration": 25,
    "start_time": "2023-01-13T10:54:33.708Z"
   },
   {
    "duration": 1419,
    "start_time": "2023-01-13T10:56:44.191Z"
   },
   {
    "duration": 15,
    "start_time": "2023-01-13T10:57:13.761Z"
   },
   {
    "duration": 11,
    "start_time": "2023-01-13T11:14:13.296Z"
   },
   {
    "duration": 1231,
    "start_time": "2023-01-13T11:23:42.999Z"
   },
   {
    "duration": 77,
    "start_time": "2023-01-13T11:23:44.232Z"
   },
   {
    "duration": 13,
    "start_time": "2023-01-13T11:23:44.310Z"
   },
   {
    "duration": 29,
    "start_time": "2023-01-13T11:23:44.325Z"
   },
   {
    "duration": 22,
    "start_time": "2023-01-13T11:23:44.357Z"
   },
   {
    "duration": 33,
    "start_time": "2023-01-13T11:23:44.381Z"
   },
   {
    "duration": 15,
    "start_time": "2023-01-13T11:23:44.417Z"
   },
   {
    "duration": 24,
    "start_time": "2023-01-13T11:23:44.434Z"
   },
   {
    "duration": 20,
    "start_time": "2023-01-13T11:23:44.461Z"
   },
   {
    "duration": 18,
    "start_time": "2023-01-13T11:23:44.485Z"
   },
   {
    "duration": 21,
    "start_time": "2023-01-13T11:23:44.506Z"
   },
   {
    "duration": 16,
    "start_time": "2023-01-13T11:23:44.529Z"
   },
   {
    "duration": 22,
    "start_time": "2023-01-13T11:23:44.549Z"
   },
   {
    "duration": 318,
    "start_time": "2023-01-13T11:23:44.574Z"
   },
   {
    "duration": 331,
    "start_time": "2023-01-13T11:23:44.894Z"
   },
   {
    "duration": 236,
    "start_time": "2023-01-13T11:23:45.227Z"
   },
   {
    "duration": 313,
    "start_time": "2023-01-13T11:23:45.464Z"
   },
   {
    "duration": 257,
    "start_time": "2023-01-13T11:23:45.780Z"
   },
   {
    "duration": 376,
    "start_time": "2023-01-13T11:23:46.040Z"
   },
   {
    "duration": 25,
    "start_time": "2023-01-13T11:23:46.418Z"
   },
   {
    "duration": 151,
    "start_time": "2023-01-13T11:23:46.446Z"
   },
   {
    "duration": 6,
    "start_time": "2023-01-13T11:23:46.599Z"
   },
   {
    "duration": 167,
    "start_time": "2023-01-13T11:23:46.606Z"
   },
   {
    "duration": 7,
    "start_time": "2023-01-13T11:23:46.776Z"
   },
   {
    "duration": 15,
    "start_time": "2023-01-13T11:23:46.785Z"
   },
   {
    "duration": 285,
    "start_time": "2023-01-13T11:23:46.802Z"
   },
   {
    "duration": 160,
    "start_time": "2023-01-13T11:23:47.089Z"
   },
   {
    "duration": 9,
    "start_time": "2023-01-13T11:23:47.253Z"
   },
   {
    "duration": 202,
    "start_time": "2023-01-13T11:23:47.264Z"
   },
   {
    "duration": 15,
    "start_time": "2023-01-13T11:23:47.469Z"
   },
   {
    "duration": 21,
    "start_time": "2023-01-13T11:23:47.487Z"
   },
   {
    "duration": 33,
    "start_time": "2023-01-13T11:23:47.510Z"
   },
   {
    "duration": 32,
    "start_time": "2023-01-13T11:23:47.546Z"
   },
   {
    "duration": 22,
    "start_time": "2023-01-13T11:23:47.581Z"
   },
   {
    "duration": 1309,
    "start_time": "2023-01-13T11:27:04.051Z"
   },
   {
    "duration": 75,
    "start_time": "2023-01-13T11:27:05.363Z"
   },
   {
    "duration": 13,
    "start_time": "2023-01-13T11:27:05.440Z"
   },
   {
    "duration": 39,
    "start_time": "2023-01-13T11:27:05.455Z"
   },
   {
    "duration": 38,
    "start_time": "2023-01-13T11:27:05.496Z"
   },
   {
    "duration": 26,
    "start_time": "2023-01-13T11:27:05.536Z"
   },
   {
    "duration": 22,
    "start_time": "2023-01-13T11:27:05.565Z"
   },
   {
    "duration": 31,
    "start_time": "2023-01-13T11:27:05.589Z"
   },
   {
    "duration": 42,
    "start_time": "2023-01-13T11:27:05.622Z"
   },
   {
    "duration": 19,
    "start_time": "2023-01-13T11:27:05.668Z"
   },
   {
    "duration": 26,
    "start_time": "2023-01-13T11:27:05.690Z"
   },
   {
    "duration": 19,
    "start_time": "2023-01-13T11:27:05.718Z"
   },
   {
    "duration": 27,
    "start_time": "2023-01-13T11:27:05.739Z"
   },
   {
    "duration": 354,
    "start_time": "2023-01-13T11:27:05.769Z"
   },
   {
    "duration": 372,
    "start_time": "2023-01-13T11:27:06.125Z"
   },
   {
    "duration": 252,
    "start_time": "2023-01-13T11:27:06.500Z"
   },
   {
    "duration": 335,
    "start_time": "2023-01-13T11:27:06.754Z"
   },
   {
    "duration": 240,
    "start_time": "2023-01-13T11:27:07.091Z"
   },
   {
    "duration": 365,
    "start_time": "2023-01-13T11:27:07.333Z"
   },
   {
    "duration": 13,
    "start_time": "2023-01-13T11:27:07.700Z"
   },
   {
    "duration": 168,
    "start_time": "2023-01-13T11:27:07.715Z"
   },
   {
    "duration": 23,
    "start_time": "2023-01-13T11:27:07.886Z"
   },
   {
    "duration": 245,
    "start_time": "2023-01-13T11:27:07.912Z"
   },
   {
    "duration": 5,
    "start_time": "2023-01-13T11:27:08.159Z"
   },
   {
    "duration": 25,
    "start_time": "2023-01-13T11:27:08.166Z"
   },
   {
    "duration": 323,
    "start_time": "2023-01-13T11:27:08.194Z"
   },
   {
    "duration": 254,
    "start_time": "2023-01-13T11:27:08.520Z"
   },
   {
    "duration": 7,
    "start_time": "2023-01-13T11:27:08.777Z"
   },
   {
    "duration": 269,
    "start_time": "2023-01-13T11:27:08.786Z"
   },
   {
    "duration": 15,
    "start_time": "2023-01-13T11:27:09.057Z"
   },
   {
    "duration": 20,
    "start_time": "2023-01-13T11:27:09.074Z"
   },
   {
    "duration": 15,
    "start_time": "2023-01-13T11:27:09.097Z"
   },
   {
    "duration": 45,
    "start_time": "2023-01-13T11:27:09.114Z"
   },
   {
    "duration": 19,
    "start_time": "2023-01-13T11:27:09.161Z"
   },
   {
    "duration": 1082,
    "start_time": "2023-01-13T12:50:28.944Z"
   },
   {
    "duration": 205,
    "start_time": "2023-01-13T12:50:30.028Z"
   },
   {
    "duration": 11,
    "start_time": "2023-01-13T12:50:30.235Z"
   },
   {
    "duration": 30,
    "start_time": "2023-01-13T12:50:30.247Z"
   },
   {
    "duration": 21,
    "start_time": "2023-01-13T12:50:30.279Z"
   },
   {
    "duration": 35,
    "start_time": "2023-01-13T12:50:30.301Z"
   },
   {
    "duration": 22,
    "start_time": "2023-01-13T12:50:30.337Z"
   },
   {
    "duration": 38,
    "start_time": "2023-01-13T12:50:30.361Z"
   },
   {
    "duration": 30,
    "start_time": "2023-01-13T12:50:30.400Z"
   },
   {
    "duration": 26,
    "start_time": "2023-01-13T12:50:30.434Z"
   },
   {
    "duration": 20,
    "start_time": "2023-01-13T12:50:30.462Z"
   },
   {
    "duration": 22,
    "start_time": "2023-01-13T12:50:30.484Z"
   },
   {
    "duration": 25,
    "start_time": "2023-01-13T12:50:30.508Z"
   },
   {
    "duration": 354,
    "start_time": "2023-01-13T12:50:30.535Z"
   },
   {
    "duration": 297,
    "start_time": "2023-01-13T12:50:30.891Z"
   },
   {
    "duration": 203,
    "start_time": "2023-01-13T12:50:31.189Z"
   },
   {
    "duration": 285,
    "start_time": "2023-01-13T12:50:31.394Z"
   },
   {
    "duration": 190,
    "start_time": "2023-01-13T12:50:31.681Z"
   },
   {
    "duration": 322,
    "start_time": "2023-01-13T12:50:31.873Z"
   },
   {
    "duration": 11,
    "start_time": "2023-01-13T12:50:32.197Z"
   },
   {
    "duration": 167,
    "start_time": "2023-01-13T12:50:32.211Z"
   },
   {
    "duration": 5,
    "start_time": "2023-01-13T12:50:32.379Z"
   },
   {
    "duration": 159,
    "start_time": "2023-01-13T12:50:32.386Z"
   },
   {
    "duration": 4,
    "start_time": "2023-01-13T12:50:32.547Z"
   },
   {
    "duration": 68,
    "start_time": "2023-01-13T12:50:32.553Z"
   },
   {
    "duration": 255,
    "start_time": "2023-01-13T12:50:32.623Z"
   },
   {
    "duration": 157,
    "start_time": "2023-01-13T12:50:32.879Z"
   },
   {
    "duration": 7,
    "start_time": "2023-01-13T12:50:33.040Z"
   },
   {
    "duration": 198,
    "start_time": "2023-01-13T12:50:33.048Z"
   },
   {
    "duration": 9,
    "start_time": "2023-01-13T12:50:33.248Z"
   },
   {
    "duration": 31,
    "start_time": "2023-01-13T12:50:33.259Z"
   },
   {
    "duration": 31,
    "start_time": "2023-01-13T12:50:33.292Z"
   },
   {
    "duration": 60,
    "start_time": "2023-01-13T12:50:33.324Z"
   },
   {
    "duration": 14,
    "start_time": "2023-01-13T12:50:33.386Z"
   },
   {
    "duration": 8,
    "start_time": "2023-01-13T13:01:23.835Z"
   },
   {
    "duration": 1096,
    "start_time": "2023-01-13T13:05:58.819Z"
   },
   {
    "duration": 89,
    "start_time": "2023-01-13T13:05:59.917Z"
   },
   {
    "duration": 13,
    "start_time": "2023-01-13T13:06:00.007Z"
   },
   {
    "duration": 21,
    "start_time": "2023-01-13T13:06:00.022Z"
   },
   {
    "duration": 9,
    "start_time": "2023-01-13T13:06:00.046Z"
   },
   {
    "duration": 19,
    "start_time": "2023-01-13T13:06:00.056Z"
   },
   {
    "duration": 17,
    "start_time": "2023-01-13T13:06:00.077Z"
   },
   {
    "duration": 20,
    "start_time": "2023-01-13T13:06:00.095Z"
   },
   {
    "duration": 15,
    "start_time": "2023-01-13T13:06:00.117Z"
   },
   {
    "duration": 21,
    "start_time": "2023-01-13T13:06:00.134Z"
   },
   {
    "duration": 22,
    "start_time": "2023-01-13T13:06:00.157Z"
   },
   {
    "duration": 30,
    "start_time": "2023-01-13T13:06:00.182Z"
   },
   {
    "duration": 26,
    "start_time": "2023-01-13T13:06:00.214Z"
   },
   {
    "duration": 306,
    "start_time": "2023-01-13T13:06:00.243Z"
   },
   {
    "duration": 299,
    "start_time": "2023-01-13T13:06:00.550Z"
   },
   {
    "duration": 228,
    "start_time": "2023-01-13T13:06:00.851Z"
   },
   {
    "duration": 329,
    "start_time": "2023-01-13T13:06:01.082Z"
   },
   {
    "duration": 221,
    "start_time": "2023-01-13T13:06:01.413Z"
   },
   {
    "duration": 312,
    "start_time": "2023-01-13T13:06:01.635Z"
   },
   {
    "duration": 14,
    "start_time": "2023-01-13T13:06:01.948Z"
   },
   {
    "duration": 148,
    "start_time": "2023-01-13T13:06:01.964Z"
   },
   {
    "duration": 5,
    "start_time": "2023-01-13T13:06:02.114Z"
   },
   {
    "duration": 157,
    "start_time": "2023-01-13T13:06:02.121Z"
   },
   {
    "duration": 7,
    "start_time": "2023-01-13T13:06:02.280Z"
   },
   {
    "duration": 31,
    "start_time": "2023-01-13T13:06:02.289Z"
   },
   {
    "duration": 244,
    "start_time": "2023-01-13T13:06:02.321Z"
   },
   {
    "duration": 152,
    "start_time": "2023-01-13T13:06:02.567Z"
   },
   {
    "duration": 7,
    "start_time": "2023-01-13T13:06:02.721Z"
   },
   {
    "duration": 184,
    "start_time": "2023-01-13T13:06:02.729Z"
   },
   {
    "duration": 12,
    "start_time": "2023-01-13T13:06:02.917Z"
   },
   {
    "duration": 25,
    "start_time": "2023-01-13T13:06:02.931Z"
   },
   {
    "duration": 42,
    "start_time": "2023-01-13T13:06:02.958Z"
   },
   {
    "duration": 52,
    "start_time": "2023-01-13T13:06:03.002Z"
   },
   {
    "duration": 29,
    "start_time": "2023-01-13T13:06:03.055Z"
   },
   {
    "duration": 51,
    "start_time": "2023-01-13T13:59:11.381Z"
   },
   {
    "duration": 1328,
    "start_time": "2023-01-13T13:59:29.604Z"
   },
   {
    "duration": 200,
    "start_time": "2023-01-13T13:59:30.934Z"
   },
   {
    "duration": 13,
    "start_time": "2023-01-13T13:59:31.135Z"
   },
   {
    "duration": 19,
    "start_time": "2023-01-13T13:59:31.150Z"
   },
   {
    "duration": 18,
    "start_time": "2023-01-13T13:59:31.171Z"
   },
   {
    "duration": 41,
    "start_time": "2023-01-13T13:59:31.191Z"
   },
   {
    "duration": 15,
    "start_time": "2023-01-13T13:59:31.233Z"
   },
   {
    "duration": 24,
    "start_time": "2023-01-13T13:59:31.250Z"
   },
   {
    "duration": 21,
    "start_time": "2023-01-13T13:59:31.275Z"
   },
   {
    "duration": 28,
    "start_time": "2023-01-13T13:59:31.299Z"
   },
   {
    "duration": 42,
    "start_time": "2023-01-13T13:59:31.329Z"
   },
   {
    "duration": 17,
    "start_time": "2023-01-13T13:59:31.372Z"
   },
   {
    "duration": 16,
    "start_time": "2023-01-13T13:59:31.391Z"
   },
   {
    "duration": 286,
    "start_time": "2023-01-13T13:59:31.409Z"
   },
   {
    "duration": 296,
    "start_time": "2023-01-13T13:59:31.697Z"
   },
   {
    "duration": 206,
    "start_time": "2023-01-13T13:59:31.995Z"
   },
   {
    "duration": 330,
    "start_time": "2023-01-13T13:59:32.203Z"
   },
   {
    "duration": 216,
    "start_time": "2023-01-13T13:59:32.534Z"
   },
   {
    "duration": 330,
    "start_time": "2023-01-13T13:59:32.752Z"
   },
   {
    "duration": 12,
    "start_time": "2023-01-13T13:59:33.084Z"
   },
   {
    "duration": 127,
    "start_time": "2023-01-13T13:59:33.098Z"
   },
   {
    "duration": 6,
    "start_time": "2023-01-13T13:59:33.227Z"
   },
   {
    "duration": 167,
    "start_time": "2023-01-13T13:59:33.234Z"
   },
   {
    "duration": 5,
    "start_time": "2023-01-13T13:59:33.403Z"
   },
   {
    "duration": 15,
    "start_time": "2023-01-13T13:59:33.410Z"
   },
   {
    "duration": 228,
    "start_time": "2023-01-13T13:59:33.427Z"
   },
   {
    "duration": 146,
    "start_time": "2023-01-13T13:59:33.657Z"
   },
   {
    "duration": 6,
    "start_time": "2023-01-13T13:59:33.807Z"
   },
   {
    "duration": 174,
    "start_time": "2023-01-13T13:59:33.814Z"
   },
   {
    "duration": 10,
    "start_time": "2023-01-13T13:59:33.990Z"
   },
   {
    "duration": 8,
    "start_time": "2023-01-13T13:59:34.002Z"
   },
   {
    "duration": 7,
    "start_time": "2023-01-13T13:59:34.012Z"
   },
   {
    "duration": 25,
    "start_time": "2023-01-13T13:59:34.020Z"
   },
   {
    "duration": 41,
    "start_time": "2023-01-13T13:59:34.046Z"
   },
   {
    "duration": 6,
    "start_time": "2023-01-13T14:01:42.935Z"
   },
   {
    "duration": 6,
    "start_time": "2023-01-13T14:01:52.368Z"
   },
   {
    "duration": 5,
    "start_time": "2023-01-13T14:02:50.793Z"
   },
   {
    "duration": 6,
    "start_time": "2023-01-13T14:03:11.577Z"
   },
   {
    "duration": 7,
    "start_time": "2023-01-13T14:03:44.598Z"
   },
   {
    "duration": 14,
    "start_time": "2023-01-13T14:07:48.402Z"
   },
   {
    "duration": 53,
    "start_time": "2023-01-13T14:08:53.243Z"
   },
   {
    "duration": 54,
    "start_time": "2023-01-13T14:09:02.984Z"
   },
   {
    "duration": 9,
    "start_time": "2023-01-13T14:09:16.610Z"
   },
   {
    "duration": 10,
    "start_time": "2023-01-13T14:09:30.203Z"
   },
   {
    "duration": 9,
    "start_time": "2023-01-13T14:13:38.759Z"
   },
   {
    "duration": 6,
    "start_time": "2023-01-13T14:13:39.044Z"
   },
   {
    "duration": 10,
    "start_time": "2023-01-13T14:13:40.389Z"
   },
   {
    "duration": 1155,
    "start_time": "2023-01-13T14:13:51.753Z"
   },
   {
    "duration": 74,
    "start_time": "2023-01-13T14:13:52.910Z"
   },
   {
    "duration": 12,
    "start_time": "2023-01-13T14:13:52.986Z"
   },
   {
    "duration": 12,
    "start_time": "2023-01-13T14:13:53.000Z"
   },
   {
    "duration": 8,
    "start_time": "2023-01-13T14:13:53.013Z"
   },
   {
    "duration": 18,
    "start_time": "2023-01-13T14:13:53.023Z"
   },
   {
    "duration": 14,
    "start_time": "2023-01-13T14:13:53.043Z"
   },
   {
    "duration": 36,
    "start_time": "2023-01-13T14:13:53.059Z"
   },
   {
    "duration": 15,
    "start_time": "2023-01-13T14:13:53.097Z"
   },
   {
    "duration": 13,
    "start_time": "2023-01-13T14:13:53.115Z"
   },
   {
    "duration": 12,
    "start_time": "2023-01-13T14:13:53.130Z"
   },
   {
    "duration": 9,
    "start_time": "2023-01-13T14:13:53.144Z"
   },
   {
    "duration": 10,
    "start_time": "2023-01-13T14:13:53.154Z"
   },
   {
    "duration": 23,
    "start_time": "2023-01-13T14:13:53.165Z"
   },
   {
    "duration": 6,
    "start_time": "2023-01-13T14:13:53.190Z"
   },
   {
    "duration": 21,
    "start_time": "2023-01-13T14:13:53.197Z"
   },
   {
    "duration": 3,
    "start_time": "2023-01-13T14:13:53.220Z"
   },
   {
    "duration": 315,
    "start_time": "2023-01-13T14:13:53.224Z"
   },
   {
    "duration": 296,
    "start_time": "2023-01-13T14:13:53.541Z"
   },
   {
    "duration": 220,
    "start_time": "2023-01-13T14:13:53.839Z"
   },
   {
    "duration": 325,
    "start_time": "2023-01-13T14:13:54.061Z"
   },
   {
    "duration": 231,
    "start_time": "2023-01-13T14:13:54.388Z"
   },
   {
    "duration": 296,
    "start_time": "2023-01-13T14:13:54.620Z"
   },
   {
    "duration": 12,
    "start_time": "2023-01-13T14:13:54.918Z"
   },
   {
    "duration": 150,
    "start_time": "2023-01-13T14:13:54.932Z"
   },
   {
    "duration": 6,
    "start_time": "2023-01-13T14:13:55.084Z"
   },
   {
    "duration": 153,
    "start_time": "2023-01-13T14:13:55.091Z"
   },
   {
    "duration": 4,
    "start_time": "2023-01-13T14:13:55.247Z"
   },
   {
    "duration": 25,
    "start_time": "2023-01-13T14:13:55.252Z"
   },
   {
    "duration": 261,
    "start_time": "2023-01-13T14:13:55.279Z"
   },
   {
    "duration": 183,
    "start_time": "2023-01-13T14:13:55.542Z"
   },
   {
    "duration": 7,
    "start_time": "2023-01-13T14:13:55.727Z"
   },
   {
    "duration": 374,
    "start_time": "2023-01-13T14:13:55.736Z"
   },
   {
    "duration": 11,
    "start_time": "2023-01-13T14:13:56.112Z"
   },
   {
    "duration": 62,
    "start_time": "2023-01-13T14:13:56.125Z"
   },
   {
    "duration": 21,
    "start_time": "2023-01-13T14:13:56.189Z"
   },
   {
    "duration": 46,
    "start_time": "2023-01-13T14:13:56.212Z"
   },
   {
    "duration": 15,
    "start_time": "2023-01-13T14:13:56.278Z"
   },
   {
    "duration": 238,
    "start_time": "2023-01-13T14:15:17.983Z"
   },
   {
    "duration": 341,
    "start_time": "2023-01-13T14:15:46.376Z"
   },
   {
    "duration": 208,
    "start_time": "2023-01-13T14:16:24.409Z"
   },
   {
    "duration": 344,
    "start_time": "2023-01-13T14:17:45.783Z"
   },
   {
    "duration": 140,
    "start_time": "2023-01-13T14:19:09.309Z"
   },
   {
    "duration": 140,
    "start_time": "2023-01-13T14:19:13.800Z"
   },
   {
    "duration": 163,
    "start_time": "2023-01-13T14:19:46.674Z"
   },
   {
    "duration": 160,
    "start_time": "2023-01-13T14:19:56.659Z"
   },
   {
    "duration": 167,
    "start_time": "2023-01-13T14:20:11.231Z"
   },
   {
    "duration": 160,
    "start_time": "2023-01-13T14:20:17.302Z"
   },
   {
    "duration": 1225,
    "start_time": "2023-01-13T14:25:58.387Z"
   },
   {
    "duration": 75,
    "start_time": "2023-01-13T14:25:59.614Z"
   },
   {
    "duration": 13,
    "start_time": "2023-01-13T14:25:59.695Z"
   },
   {
    "duration": 12,
    "start_time": "2023-01-13T14:25:59.710Z"
   },
   {
    "duration": 9,
    "start_time": "2023-01-13T14:25:59.724Z"
   },
   {
    "duration": 16,
    "start_time": "2023-01-13T14:25:59.735Z"
   },
   {
    "duration": 28,
    "start_time": "2023-01-13T14:25:59.753Z"
   },
   {
    "duration": 21,
    "start_time": "2023-01-13T14:25:59.782Z"
   },
   {
    "duration": 23,
    "start_time": "2023-01-13T14:25:59.806Z"
   },
   {
    "duration": 14,
    "start_time": "2023-01-13T14:25:59.832Z"
   },
   {
    "duration": 15,
    "start_time": "2023-01-13T14:25:59.848Z"
   },
   {
    "duration": 12,
    "start_time": "2023-01-13T14:25:59.866Z"
   },
   {
    "duration": 23,
    "start_time": "2023-01-13T14:25:59.879Z"
   },
   {
    "duration": 11,
    "start_time": "2023-01-13T14:25:59.904Z"
   },
   {
    "duration": 5,
    "start_time": "2023-01-13T14:25:59.917Z"
   },
   {
    "duration": 12,
    "start_time": "2023-01-13T14:25:59.924Z"
   },
   {
    "duration": 2,
    "start_time": "2023-01-13T14:25:59.937Z"
   },
   {
    "duration": 295,
    "start_time": "2023-01-13T14:25:59.940Z"
   },
   {
    "duration": 293,
    "start_time": "2023-01-13T14:26:00.237Z"
   },
   {
    "duration": 215,
    "start_time": "2023-01-13T14:26:00.531Z"
   },
   {
    "duration": 340,
    "start_time": "2023-01-13T14:26:00.748Z"
   },
   {
    "duration": 238,
    "start_time": "2023-01-13T14:26:01.090Z"
   },
   {
    "duration": 372,
    "start_time": "2023-01-13T14:26:01.330Z"
   },
   {
    "duration": 12,
    "start_time": "2023-01-13T14:26:01.703Z"
   },
   {
    "duration": 159,
    "start_time": "2023-01-13T14:26:01.717Z"
   },
   {
    "duration": 6,
    "start_time": "2023-01-13T14:26:01.878Z"
   },
   {
    "duration": 167,
    "start_time": "2023-01-13T14:26:01.888Z"
   },
   {
    "duration": 5,
    "start_time": "2023-01-13T14:26:02.057Z"
   },
   {
    "duration": 27,
    "start_time": "2023-01-13T14:26:02.063Z"
   },
   {
    "duration": 133,
    "start_time": "2023-01-13T14:26:02.092Z"
   },
   {
    "duration": 109,
    "start_time": "2023-01-13T14:26:02.226Z"
   },
   {
    "duration": 0,
    "start_time": "2023-01-13T14:26:02.337Z"
   },
   {
    "duration": 0,
    "start_time": "2023-01-13T14:26:02.339Z"
   },
   {
    "duration": 0,
    "start_time": "2023-01-13T14:26:02.340Z"
   },
   {
    "duration": 0,
    "start_time": "2023-01-13T14:26:02.341Z"
   },
   {
    "duration": 0,
    "start_time": "2023-01-13T14:26:02.343Z"
   },
   {
    "duration": 0,
    "start_time": "2023-01-13T14:26:02.344Z"
   },
   {
    "duration": 235,
    "start_time": "2023-01-13T14:35:40.072Z"
   },
   {
    "duration": 133,
    "start_time": "2023-01-13T14:35:44.153Z"
   },
   {
    "duration": 7,
    "start_time": "2023-01-13T14:35:45.363Z"
   },
   {
    "duration": 173,
    "start_time": "2023-01-13T14:41:12.933Z"
   },
   {
    "duration": 161,
    "start_time": "2023-01-13T14:41:32.811Z"
   },
   {
    "duration": 176,
    "start_time": "2023-01-13T14:41:52.357Z"
   },
   {
    "duration": 1965,
    "start_time": "2023-01-13T14:44:58.548Z"
   },
   {
    "duration": 78,
    "start_time": "2023-01-13T14:45:00.515Z"
   },
   {
    "duration": 12,
    "start_time": "2023-01-13T14:45:00.595Z"
   },
   {
    "duration": 31,
    "start_time": "2023-01-13T14:45:00.609Z"
   },
   {
    "duration": 31,
    "start_time": "2023-01-13T14:45:00.642Z"
   },
   {
    "duration": 48,
    "start_time": "2023-01-13T14:45:00.675Z"
   },
   {
    "duration": 61,
    "start_time": "2023-01-13T14:45:00.724Z"
   },
   {
    "duration": 49,
    "start_time": "2023-01-13T14:45:00.787Z"
   },
   {
    "duration": 30,
    "start_time": "2023-01-13T14:45:00.838Z"
   },
   {
    "duration": 50,
    "start_time": "2023-01-13T14:45:00.871Z"
   },
   {
    "duration": 46,
    "start_time": "2023-01-13T14:45:00.923Z"
   },
   {
    "duration": 34,
    "start_time": "2023-01-13T14:45:00.971Z"
   },
   {
    "duration": 34,
    "start_time": "2023-01-13T14:45:01.007Z"
   },
   {
    "duration": 32,
    "start_time": "2023-01-13T14:45:01.042Z"
   },
   {
    "duration": 39,
    "start_time": "2023-01-13T14:45:01.075Z"
   },
   {
    "duration": 29,
    "start_time": "2023-01-13T14:45:01.116Z"
   },
   {
    "duration": 16,
    "start_time": "2023-01-13T14:45:01.147Z"
   },
   {
    "duration": 316,
    "start_time": "2023-01-13T14:45:01.165Z"
   },
   {
    "duration": 318,
    "start_time": "2023-01-13T14:45:01.483Z"
   },
   {
    "duration": 227,
    "start_time": "2023-01-13T14:45:01.803Z"
   },
   {
    "duration": 312,
    "start_time": "2023-01-13T14:45:02.032Z"
   },
   {
    "duration": 231,
    "start_time": "2023-01-13T14:45:02.346Z"
   },
   {
    "duration": 343,
    "start_time": "2023-01-13T14:45:02.579Z"
   },
   {
    "duration": 11,
    "start_time": "2023-01-13T14:45:02.924Z"
   },
   {
    "duration": 137,
    "start_time": "2023-01-13T14:45:02.936Z"
   },
   {
    "duration": 5,
    "start_time": "2023-01-13T14:45:03.077Z"
   },
   {
    "duration": 162,
    "start_time": "2023-01-13T14:45:03.083Z"
   },
   {
    "duration": 5,
    "start_time": "2023-01-13T14:45:03.250Z"
   },
   {
    "duration": 20,
    "start_time": "2023-01-13T14:45:03.258Z"
   },
   {
    "duration": 251,
    "start_time": "2023-01-13T14:45:03.280Z"
   },
   {
    "duration": 172,
    "start_time": "2023-01-13T14:45:03.533Z"
   },
   {
    "duration": 8,
    "start_time": "2023-01-13T14:45:03.707Z"
   },
   {
    "duration": 227,
    "start_time": "2023-01-13T14:45:03.717Z"
   },
   {
    "duration": 14,
    "start_time": "2023-01-13T14:45:03.946Z"
   },
   {
    "duration": 25,
    "start_time": "2023-01-13T14:45:03.962Z"
   },
   {
    "duration": 10,
    "start_time": "2023-01-13T14:45:03.988Z"
   },
   {
    "duration": 25,
    "start_time": "2023-01-13T14:45:03.999Z"
   },
   {
    "duration": 14,
    "start_time": "2023-01-13T14:45:04.025Z"
   },
   {
    "duration": 14,
    "start_time": "2023-01-13T14:46:45.894Z"
   },
   {
    "duration": 23,
    "start_time": "2023-01-13T14:47:18.543Z"
   },
   {
    "duration": 20,
    "start_time": "2023-01-13T14:47:44.493Z"
   },
   {
    "duration": 14,
    "start_time": "2023-01-13T14:47:48.507Z"
   },
   {
    "duration": 10,
    "start_time": "2023-01-13T14:48:19.208Z"
   },
   {
    "duration": 8,
    "start_time": "2023-01-13T14:49:05.185Z"
   },
   {
    "duration": 30,
    "start_time": "2023-01-13T14:49:08.287Z"
   },
   {
    "duration": 15,
    "start_time": "2023-01-13T14:49:22.352Z"
   },
   {
    "duration": 12,
    "start_time": "2023-01-13T15:25:54.588Z"
   },
   {
    "duration": 6,
    "start_time": "2023-01-13T15:26:27.612Z"
   },
   {
    "duration": 146,
    "start_time": "2023-01-13T15:26:29.355Z"
   },
   {
    "duration": 7,
    "start_time": "2023-01-13T15:26:33.690Z"
   },
   {
    "duration": 176,
    "start_time": "2023-01-13T15:26:42.175Z"
   },
   {
    "duration": 1257,
    "start_time": "2023-01-13T15:29:18.878Z"
   },
   {
    "duration": 81,
    "start_time": "2023-01-13T15:29:20.138Z"
   },
   {
    "duration": 14,
    "start_time": "2023-01-13T15:29:20.221Z"
   },
   {
    "duration": 35,
    "start_time": "2023-01-13T15:29:20.238Z"
   },
   {
    "duration": 21,
    "start_time": "2023-01-13T15:29:20.275Z"
   },
   {
    "duration": 45,
    "start_time": "2023-01-13T15:29:20.298Z"
   },
   {
    "duration": 54,
    "start_time": "2023-01-13T15:29:20.346Z"
   },
   {
    "duration": 70,
    "start_time": "2023-01-13T15:29:20.403Z"
   },
   {
    "duration": 114,
    "start_time": "2023-01-13T15:29:20.476Z"
   },
   {
    "duration": 39,
    "start_time": "2023-01-13T15:29:20.593Z"
   },
   {
    "duration": 33,
    "start_time": "2023-01-13T15:29:20.634Z"
   },
   {
    "duration": 33,
    "start_time": "2023-01-13T15:29:20.669Z"
   },
   {
    "duration": 50,
    "start_time": "2023-01-13T15:29:20.704Z"
   },
   {
    "duration": 28,
    "start_time": "2023-01-13T15:29:20.756Z"
   },
   {
    "duration": 20,
    "start_time": "2023-01-13T15:29:20.785Z"
   },
   {
    "duration": 47,
    "start_time": "2023-01-13T15:29:20.806Z"
   },
   {
    "duration": 16,
    "start_time": "2023-01-13T15:29:20.856Z"
   },
   {
    "duration": 370,
    "start_time": "2023-01-13T15:29:20.874Z"
   },
   {
    "duration": 333,
    "start_time": "2023-01-13T15:29:21.246Z"
   },
   {
    "duration": 240,
    "start_time": "2023-01-13T15:29:21.581Z"
   },
   {
    "duration": 331,
    "start_time": "2023-01-13T15:29:21.823Z"
   },
   {
    "duration": 262,
    "start_time": "2023-01-13T15:29:22.156Z"
   },
   {
    "duration": 340,
    "start_time": "2023-01-13T15:29:22.420Z"
   },
   {
    "duration": 20,
    "start_time": "2023-01-13T15:29:22.762Z"
   },
   {
    "duration": 165,
    "start_time": "2023-01-13T15:29:22.783Z"
   },
   {
    "duration": 7,
    "start_time": "2023-01-13T15:29:22.950Z"
   },
   {
    "duration": 193,
    "start_time": "2023-01-13T15:29:22.959Z"
   },
   {
    "duration": 21,
    "start_time": "2023-01-13T15:29:23.157Z"
   },
   {
    "duration": 26,
    "start_time": "2023-01-13T15:29:23.181Z"
   },
   {
    "duration": 39,
    "start_time": "2023-01-13T15:29:23.209Z"
   },
   {
    "duration": 187,
    "start_time": "2023-01-13T15:29:23.250Z"
   },
   {
    "duration": 7,
    "start_time": "2023-01-13T15:29:23.439Z"
   },
   {
    "duration": 252,
    "start_time": "2023-01-13T15:29:23.447Z"
   },
   {
    "duration": 0,
    "start_time": "2023-01-13T15:29:23.701Z"
   },
   {
    "duration": 0,
    "start_time": "2023-01-13T15:29:23.703Z"
   },
   {
    "duration": 0,
    "start_time": "2023-01-13T15:29:23.704Z"
   },
   {
    "duration": 0,
    "start_time": "2023-01-13T15:29:23.705Z"
   },
   {
    "duration": 0,
    "start_time": "2023-01-13T15:29:23.707Z"
   },
   {
    "duration": 153,
    "start_time": "2023-01-13T15:30:44.487Z"
   },
   {
    "duration": 1186,
    "start_time": "2023-01-13T15:30:55.580Z"
   },
   {
    "duration": 74,
    "start_time": "2023-01-13T15:30:56.768Z"
   },
   {
    "duration": 12,
    "start_time": "2023-01-13T15:30:56.844Z"
   },
   {
    "duration": 21,
    "start_time": "2023-01-13T15:30:56.857Z"
   },
   {
    "duration": 6,
    "start_time": "2023-01-13T15:30:56.881Z"
   },
   {
    "duration": 14,
    "start_time": "2023-01-13T15:30:56.889Z"
   },
   {
    "duration": 15,
    "start_time": "2023-01-13T15:30:56.905Z"
   },
   {
    "duration": 10,
    "start_time": "2023-01-13T15:30:56.922Z"
   },
   {
    "duration": 16,
    "start_time": "2023-01-13T15:30:56.934Z"
   },
   {
    "duration": 27,
    "start_time": "2023-01-13T15:30:56.952Z"
   },
   {
    "duration": 12,
    "start_time": "2023-01-13T15:30:56.981Z"
   },
   {
    "duration": 8,
    "start_time": "2023-01-13T15:30:56.995Z"
   },
   {
    "duration": 14,
    "start_time": "2023-01-13T15:30:57.005Z"
   },
   {
    "duration": 7,
    "start_time": "2023-01-13T15:30:57.023Z"
   },
   {
    "duration": 6,
    "start_time": "2023-01-13T15:30:57.032Z"
   },
   {
    "duration": 44,
    "start_time": "2023-01-13T15:30:57.040Z"
   },
   {
    "duration": 2,
    "start_time": "2023-01-13T15:30:57.086Z"
   },
   {
    "duration": 302,
    "start_time": "2023-01-13T15:30:57.090Z"
   },
   {
    "duration": 303,
    "start_time": "2023-01-13T15:30:57.394Z"
   },
   {
    "duration": 220,
    "start_time": "2023-01-13T15:30:57.698Z"
   },
   {
    "duration": 289,
    "start_time": "2023-01-13T15:30:57.920Z"
   },
   {
    "duration": 309,
    "start_time": "2023-01-13T15:30:58.212Z"
   },
   {
    "duration": 346,
    "start_time": "2023-01-13T15:30:58.523Z"
   },
   {
    "duration": 16,
    "start_time": "2023-01-13T15:30:58.871Z"
   },
   {
    "duration": 151,
    "start_time": "2023-01-13T15:30:58.889Z"
   },
   {
    "duration": 6,
    "start_time": "2023-01-13T15:30:59.042Z"
   },
   {
    "duration": 182,
    "start_time": "2023-01-13T15:30:59.050Z"
   },
   {
    "duration": 4,
    "start_time": "2023-01-13T15:30:59.234Z"
   },
   {
    "duration": 14,
    "start_time": "2023-01-13T15:30:59.239Z"
   },
   {
    "duration": 25,
    "start_time": "2023-01-13T15:30:59.255Z"
   },
   {
    "duration": 143,
    "start_time": "2023-01-13T15:30:59.282Z"
   },
   {
    "duration": 6,
    "start_time": "2023-01-13T15:30:59.426Z"
   },
   {
    "duration": 166,
    "start_time": "2023-01-13T15:30:59.434Z"
   },
   {
    "duration": 11,
    "start_time": "2023-01-13T15:30:59.602Z"
   },
   {
    "duration": 29,
    "start_time": "2023-01-13T15:30:59.615Z"
   },
   {
    "duration": 106,
    "start_time": "2023-01-13T15:30:59.646Z"
   },
   {
    "duration": 0,
    "start_time": "2023-01-13T15:30:59.754Z"
   },
   {
    "duration": 0,
    "start_time": "2023-01-13T15:30:59.755Z"
   },
   {
    "duration": 10,
    "start_time": "2023-01-13T15:32:57.574Z"
   },
   {
    "duration": 22,
    "start_time": "2023-01-13T15:33:03.917Z"
   },
   {
    "duration": 1155,
    "start_time": "2023-01-13T15:33:37.261Z"
   },
   {
    "duration": 77,
    "start_time": "2023-01-13T15:33:38.419Z"
   },
   {
    "duration": 14,
    "start_time": "2023-01-13T15:33:38.498Z"
   },
   {
    "duration": 35,
    "start_time": "2023-01-13T15:33:38.515Z"
   },
   {
    "duration": 13,
    "start_time": "2023-01-13T15:33:38.552Z"
   },
   {
    "duration": 33,
    "start_time": "2023-01-13T15:33:38.566Z"
   },
   {
    "duration": 18,
    "start_time": "2023-01-13T15:33:38.600Z"
   },
   {
    "duration": 35,
    "start_time": "2023-01-13T15:33:38.620Z"
   },
   {
    "duration": 41,
    "start_time": "2023-01-13T15:33:38.657Z"
   },
   {
    "duration": 23,
    "start_time": "2023-01-13T15:33:38.701Z"
   },
   {
    "duration": 25,
    "start_time": "2023-01-13T15:33:38.725Z"
   },
   {
    "duration": 34,
    "start_time": "2023-01-13T15:33:38.752Z"
   },
   {
    "duration": 20,
    "start_time": "2023-01-13T15:33:38.788Z"
   },
   {
    "duration": 24,
    "start_time": "2023-01-13T15:33:38.810Z"
   },
   {
    "duration": 23,
    "start_time": "2023-01-13T15:33:38.836Z"
   },
   {
    "duration": 27,
    "start_time": "2023-01-13T15:33:38.861Z"
   },
   {
    "duration": 14,
    "start_time": "2023-01-13T15:33:38.890Z"
   },
   {
    "duration": 315,
    "start_time": "2023-01-13T15:33:38.905Z"
   },
   {
    "duration": 299,
    "start_time": "2023-01-13T15:33:39.221Z"
   },
   {
    "duration": 201,
    "start_time": "2023-01-13T15:33:39.522Z"
   },
   {
    "duration": 279,
    "start_time": "2023-01-13T15:33:39.725Z"
   },
   {
    "duration": 227,
    "start_time": "2023-01-13T15:33:40.006Z"
   },
   {
    "duration": 374,
    "start_time": "2023-01-13T15:33:40.235Z"
   },
   {
    "duration": 13,
    "start_time": "2023-01-13T15:33:40.611Z"
   },
   {
    "duration": 139,
    "start_time": "2023-01-13T15:33:40.626Z"
   },
   {
    "duration": 10,
    "start_time": "2023-01-13T15:33:40.768Z"
   },
   {
    "duration": 174,
    "start_time": "2023-01-13T15:33:40.780Z"
   },
   {
    "duration": 4,
    "start_time": "2023-01-13T15:33:40.958Z"
   },
   {
    "duration": 4,
    "start_time": "2023-01-13T15:33:40.978Z"
   },
   {
    "duration": 12,
    "start_time": "2023-01-13T15:33:40.984Z"
   },
   {
    "duration": 182,
    "start_time": "2023-01-13T15:33:40.998Z"
   },
   {
    "duration": 7,
    "start_time": "2023-01-13T15:33:41.182Z"
   },
   {
    "duration": 194,
    "start_time": "2023-01-13T15:33:41.191Z"
   },
   {
    "duration": 14,
    "start_time": "2023-01-13T15:33:41.388Z"
   },
   {
    "duration": 13,
    "start_time": "2023-01-13T15:33:41.404Z"
   },
   {
    "duration": 14,
    "start_time": "2023-01-13T15:33:41.419Z"
   },
   {
    "duration": 54,
    "start_time": "2023-01-13T15:33:41.436Z"
   },
   {
    "duration": 15,
    "start_time": "2023-01-13T15:33:41.492Z"
   },
   {
    "duration": 1064,
    "start_time": "2023-01-13T15:34:43.936Z"
   },
   {
    "duration": 80,
    "start_time": "2023-01-13T15:34:45.002Z"
   },
   {
    "duration": 12,
    "start_time": "2023-01-13T15:34:45.084Z"
   },
   {
    "duration": 11,
    "start_time": "2023-01-13T15:34:45.098Z"
   },
   {
    "duration": 6,
    "start_time": "2023-01-13T15:34:45.111Z"
   },
   {
    "duration": 15,
    "start_time": "2023-01-13T15:34:45.118Z"
   },
   {
    "duration": 10,
    "start_time": "2023-01-13T15:34:45.135Z"
   },
   {
    "duration": 32,
    "start_time": "2023-01-13T15:34:45.147Z"
   },
   {
    "duration": 12,
    "start_time": "2023-01-13T15:34:45.180Z"
   },
   {
    "duration": 10,
    "start_time": "2023-01-13T15:34:45.194Z"
   },
   {
    "duration": 13,
    "start_time": "2023-01-13T15:34:45.206Z"
   },
   {
    "duration": 6,
    "start_time": "2023-01-13T15:34:45.221Z"
   },
   {
    "duration": 9,
    "start_time": "2023-01-13T15:34:45.229Z"
   },
   {
    "duration": 11,
    "start_time": "2023-01-13T15:34:45.239Z"
   },
   {
    "duration": 29,
    "start_time": "2023-01-13T15:34:45.251Z"
   },
   {
    "duration": 12,
    "start_time": "2023-01-13T15:34:45.282Z"
   },
   {
    "duration": 3,
    "start_time": "2023-01-13T15:34:45.295Z"
   },
   {
    "duration": 305,
    "start_time": "2023-01-13T15:34:45.300Z"
   },
   {
    "duration": 295,
    "start_time": "2023-01-13T15:34:45.607Z"
   },
   {
    "duration": 209,
    "start_time": "2023-01-13T15:34:45.904Z"
   },
   {
    "duration": 291,
    "start_time": "2023-01-13T15:34:46.115Z"
   },
   {
    "duration": 232,
    "start_time": "2023-01-13T15:34:46.408Z"
   },
   {
    "duration": 361,
    "start_time": "2023-01-13T15:34:46.643Z"
   },
   {
    "duration": 12,
    "start_time": "2023-01-13T15:34:47.005Z"
   },
   {
    "duration": 146,
    "start_time": "2023-01-13T15:34:47.019Z"
   },
   {
    "duration": 12,
    "start_time": "2023-01-13T15:34:47.166Z"
   },
   {
    "duration": 159,
    "start_time": "2023-01-13T15:34:47.180Z"
   },
   {
    "duration": 5,
    "start_time": "2023-01-13T15:34:47.342Z"
   },
   {
    "duration": 6,
    "start_time": "2023-01-13T15:34:47.349Z"
   },
   {
    "duration": 25,
    "start_time": "2023-01-13T15:34:47.357Z"
   },
   {
    "duration": 136,
    "start_time": "2023-01-13T15:34:47.384Z"
   },
   {
    "duration": 8,
    "start_time": "2023-01-13T15:34:47.522Z"
   },
   {
    "duration": 173,
    "start_time": "2023-01-13T15:34:47.531Z"
   },
   {
    "duration": 11,
    "start_time": "2023-01-13T15:34:47.705Z"
   },
   {
    "duration": 11,
    "start_time": "2023-01-13T15:34:47.718Z"
   },
   {
    "duration": 10,
    "start_time": "2023-01-13T15:34:47.731Z"
   },
   {
    "duration": 44,
    "start_time": "2023-01-13T15:34:47.743Z"
   },
   {
    "duration": 13,
    "start_time": "2023-01-13T15:34:47.789Z"
   },
   {
    "duration": 1321,
    "start_time": "2023-01-14T10:31:33.136Z"
   },
   {
    "duration": 93,
    "start_time": "2023-01-14T10:31:34.459Z"
   },
   {
    "duration": 37,
    "start_time": "2023-01-14T10:31:34.554Z"
   },
   {
    "duration": 27,
    "start_time": "2023-01-14T10:31:34.597Z"
   },
   {
    "duration": 15,
    "start_time": "2023-01-14T10:31:34.628Z"
   },
   {
    "duration": 25,
    "start_time": "2023-01-14T10:31:34.645Z"
   },
   {
    "duration": 26,
    "start_time": "2023-01-14T10:31:34.672Z"
   },
   {
    "duration": 21,
    "start_time": "2023-01-14T10:31:34.702Z"
   },
   {
    "duration": 18,
    "start_time": "2023-01-14T10:31:34.725Z"
   },
   {
    "duration": 17,
    "start_time": "2023-01-14T10:31:34.744Z"
   },
   {
    "duration": 21,
    "start_time": "2023-01-14T10:31:34.763Z"
   },
   {
    "duration": 16,
    "start_time": "2023-01-14T10:31:34.790Z"
   },
   {
    "duration": 11,
    "start_time": "2023-01-14T10:31:34.808Z"
   },
   {
    "duration": 9,
    "start_time": "2023-01-14T10:31:34.822Z"
   },
   {
    "duration": 5,
    "start_time": "2023-01-14T10:31:34.835Z"
   },
   {
    "duration": 31,
    "start_time": "2023-01-14T10:31:34.842Z"
   },
   {
    "duration": 34,
    "start_time": "2023-01-14T10:31:34.875Z"
   },
   {
    "duration": 392,
    "start_time": "2023-01-14T10:31:34.912Z"
   },
   {
    "duration": 492,
    "start_time": "2023-01-14T10:31:35.307Z"
   },
   {
    "duration": 374,
    "start_time": "2023-01-14T10:31:35.801Z"
   },
   {
    "duration": 413,
    "start_time": "2023-01-14T10:31:36.178Z"
   },
   {
    "duration": 468,
    "start_time": "2023-01-14T10:31:36.593Z"
   },
   {
    "duration": 443,
    "start_time": "2023-01-14T10:31:37.063Z"
   },
   {
    "duration": 13,
    "start_time": "2023-01-14T10:31:37.508Z"
   },
   {
    "duration": 278,
    "start_time": "2023-01-14T10:31:37.523Z"
   },
   {
    "duration": 6,
    "start_time": "2023-01-14T10:31:37.803Z"
   },
   {
    "duration": 324,
    "start_time": "2023-01-14T10:31:37.811Z"
   },
   {
    "duration": 5,
    "start_time": "2023-01-14T10:31:38.137Z"
   },
   {
    "duration": 8,
    "start_time": "2023-01-14T10:31:38.144Z"
   },
   {
    "duration": 31,
    "start_time": "2023-01-14T10:31:38.155Z"
   },
   {
    "duration": 222,
    "start_time": "2023-01-14T10:31:38.192Z"
   },
   {
    "duration": 7,
    "start_time": "2023-01-14T10:31:38.416Z"
   },
   {
    "duration": 226,
    "start_time": "2023-01-14T10:31:38.426Z"
   },
   {
    "duration": 13,
    "start_time": "2023-01-14T10:31:38.654Z"
   },
   {
    "duration": 48,
    "start_time": "2023-01-14T10:31:38.682Z"
   },
   {
    "duration": 50,
    "start_time": "2023-01-14T10:31:38.732Z"
   },
   {
    "duration": 53,
    "start_time": "2023-01-14T10:31:38.796Z"
   },
   {
    "duration": 20,
    "start_time": "2023-01-14T10:31:38.851Z"
   }
  ],
  "kernelspec": {
   "display_name": "Python 3 (ipykernel)",
   "language": "python",
   "name": "python3"
  },
  "language_info": {
   "codemirror_mode": {
    "name": "ipython",
    "version": 3
   },
   "file_extension": ".py",
   "mimetype": "text/x-python",
   "name": "python",
   "nbconvert_exporter": "python",
   "pygments_lexer": "ipython3",
   "version": "3.9.13"
  },
  "toc": {
   "base_numbering": 1,
   "nav_menu": {},
   "number_sections": true,
   "sideBar": true,
   "skip_h1_title": true,
   "title_cell": "Содержания",
   "title_sidebar": "Оглавление",
   "toc_cell": true,
   "toc_position": {
    "height": "calc(100% - 180px)",
    "left": "10px",
    "top": "150px",
    "width": "324.797px"
   },
   "toc_section_display": true,
   "toc_window_display": true
  }
 },
 "nbformat": 4,
 "nbformat_minor": 2
}
